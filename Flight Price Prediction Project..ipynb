{
 "cells": [
  {
   "cell_type": "code",
   "execution_count": 1,
   "id": "782a477a",
   "metadata": {},
   "outputs": [],
   "source": [
    "# to import necessary libraries\n",
    "import pandas as pd\n",
    "import numpy as np\n",
    "import matplotlib.pyplot as plt\n",
    "%matplotlib inline\n",
    "import seaborn as sns\n",
    "import warnings\n",
    "\n",
    "warnings.filterwarnings('ignore')"
   ]
  },
  {
   "cell_type": "code",
   "execution_count": 2,
   "id": "182c070d",
   "metadata": {},
   "outputs": [],
   "source": [
    "df=pd.read_csv('flight_data_paytm.csv')"
   ]
  },
  {
   "cell_type": "code",
   "execution_count": 3,
   "id": "b673851c",
   "metadata": {},
   "outputs": [
    {
     "data": {
      "text/html": [
       "<div>\n",
       "<style scoped>\n",
       "    .dataframe tbody tr th:only-of-type {\n",
       "        vertical-align: middle;\n",
       "    }\n",
       "\n",
       "    .dataframe tbody tr th {\n",
       "        vertical-align: top;\n",
       "    }\n",
       "\n",
       "    .dataframe thead th {\n",
       "        text-align: right;\n",
       "    }\n",
       "</style>\n",
       "<table border=\"1\" class=\"dataframe\">\n",
       "  <thead>\n",
       "    <tr style=\"text-align: right;\">\n",
       "      <th></th>\n",
       "      <th>Unnamed: 0</th>\n",
       "      <th>flight_name</th>\n",
       "      <th>flight_id</th>\n",
       "      <th>start_time</th>\n",
       "      <th>end_time</th>\n",
       "      <th>travel_time</th>\n",
       "      <th>stops</th>\n",
       "      <th>fare</th>\n",
       "      <th>source</th>\n",
       "      <th>destination</th>\n",
       "    </tr>\n",
       "  </thead>\n",
       "  <tbody>\n",
       "    <tr>\n",
       "      <th>0</th>\n",
       "      <td>0</td>\n",
       "      <td>Go First</td>\n",
       "      <td>G8 - 713</td>\n",
       "      <td>19:15</td>\n",
       "      <td>00:20</td>\n",
       "      <td>5h 5m</td>\n",
       "      <td>1 stop at Ahmedabad</td>\n",
       "      <td>6,592</td>\n",
       "      <td>DEL-Delhi</td>\n",
       "      <td>BOM-Mumbai</td>\n",
       "    </tr>\n",
       "    <tr>\n",
       "      <th>1</th>\n",
       "      <td>1</td>\n",
       "      <td>Go First</td>\n",
       "      <td>G8 - 713</td>\n",
       "      <td>19:15</td>\n",
       "      <td>09:05</td>\n",
       "      <td>13h 50m</td>\n",
       "      <td>1 stop at Ahmedabad</td>\n",
       "      <td>6,906</td>\n",
       "      <td>DEL-Delhi</td>\n",
       "      <td>BOM-Mumbai</td>\n",
       "    </tr>\n",
       "    <tr>\n",
       "      <th>2</th>\n",
       "      <td>2</td>\n",
       "      <td>Go First</td>\n",
       "      <td>G8 - 336</td>\n",
       "      <td>15:15</td>\n",
       "      <td>17:20</td>\n",
       "      <td>2h 5m</td>\n",
       "      <td>Non Stop</td>\n",
       "      <td>7,319</td>\n",
       "      <td>DEL-Delhi</td>\n",
       "      <td>BOM-Mumbai</td>\n",
       "    </tr>\n",
       "    <tr>\n",
       "      <th>3</th>\n",
       "      <td>3</td>\n",
       "      <td>Go First</td>\n",
       "      <td>G8 - 323</td>\n",
       "      <td>18:20</td>\n",
       "      <td>20:35</td>\n",
       "      <td>2h 15m</td>\n",
       "      <td>Non Stop</td>\n",
       "      <td>7,319</td>\n",
       "      <td>DEL-Delhi</td>\n",
       "      <td>BOM-Mumbai</td>\n",
       "    </tr>\n",
       "    <tr>\n",
       "      <th>4</th>\n",
       "      <td>4</td>\n",
       "      <td>Go First</td>\n",
       "      <td>G8 - 330</td>\n",
       "      <td>20:50</td>\n",
       "      <td>23:05</td>\n",
       "      <td>2h 15m</td>\n",
       "      <td>Non Stop</td>\n",
       "      <td>7,319</td>\n",
       "      <td>DEL-Delhi</td>\n",
       "      <td>BOM-Mumbai</td>\n",
       "    </tr>\n",
       "  </tbody>\n",
       "</table>\n",
       "</div>"
      ],
      "text/plain": [
       "   Unnamed: 0 flight_name flight_id start_time end_time travel_time  \\\n",
       "0           0    Go First  G8 - 713      19:15    00:20       5h 5m   \n",
       "1           1    Go First  G8 - 713      19:15    09:05     13h 50m   \n",
       "2           2    Go First  G8 - 336      15:15    17:20       2h 5m   \n",
       "3           3    Go First  G8 - 323      18:20    20:35      2h 15m   \n",
       "4           4    Go First  G8 - 330      20:50    23:05      2h 15m   \n",
       "\n",
       "                 stops   fare     source destination  \n",
       "0  1 stop at Ahmedabad  6,592  DEL-Delhi  BOM-Mumbai  \n",
       "1  1 stop at Ahmedabad  6,906  DEL-Delhi  BOM-Mumbai  \n",
       "2             Non Stop  7,319  DEL-Delhi  BOM-Mumbai  \n",
       "3             Non Stop  7,319  DEL-Delhi  BOM-Mumbai  \n",
       "4             Non Stop  7,319  DEL-Delhi  BOM-Mumbai  "
      ]
     },
     "execution_count": 3,
     "metadata": {},
     "output_type": "execute_result"
    }
   ],
   "source": [
    "df.head()"
   ]
  },
  {
   "cell_type": "markdown",
   "id": "bf9daf6d",
   "metadata": {},
   "source": [
    "# Exploratory Data Analysis (EDA):\n"
   ]
  },
  {
   "cell_type": "code",
   "execution_count": 4,
   "id": "49897d01",
   "metadata": {},
   "outputs": [
    {
     "data": {
      "text/plain": [
       "(4322, 10)"
      ]
     },
     "execution_count": 4,
     "metadata": {},
     "output_type": "execute_result"
    }
   ],
   "source": [
    "# to check dataset shape\n",
    "df.shape"
   ]
  },
  {
   "cell_type": "code",
   "execution_count": 5,
   "id": "069a99db",
   "metadata": {},
   "outputs": [
    {
     "data": {
      "text/plain": [
       "Unnamed: 0      int64\n",
       "flight_name    object\n",
       "flight_id      object\n",
       "start_time     object\n",
       "end_time       object\n",
       "travel_time    object\n",
       "stops          object\n",
       "fare           object\n",
       "source         object\n",
       "destination    object\n",
       "dtype: object"
      ]
     },
     "execution_count": 5,
     "metadata": {},
     "output_type": "execute_result"
    }
   ],
   "source": [
    "#to check datatype\n",
    "df.dtypes"
   ]
  },
  {
   "cell_type": "code",
   "execution_count": 6,
   "id": "a86b9b8d",
   "metadata": {},
   "outputs": [
    {
     "data": {
      "text/plain": [
       "Index(['Unnamed: 0', 'flight_name', 'flight_id', 'start_time', 'end_time',\n",
       "       'travel_time', 'stops', 'fare', 'source', 'destination'],\n",
       "      dtype='object')"
      ]
     },
     "execution_count": 6,
     "metadata": {},
     "output_type": "execute_result"
    }
   ],
   "source": [
    "# to check column names\n",
    "df.columns"
   ]
  },
  {
   "cell_type": "code",
   "execution_count": 7,
   "id": "0c98478d",
   "metadata": {},
   "outputs": [
    {
     "data": {
      "text/plain": [
       "Unnamed: 0      0\n",
       "flight_name    68\n",
       "flight_id      68\n",
       "start_time     68\n",
       "end_time       68\n",
       "travel_time    68\n",
       "stops          68\n",
       "fare           68\n",
       "source          0\n",
       "destination     0\n",
       "dtype: int64"
      ]
     },
     "execution_count": 7,
     "metadata": {},
     "output_type": "execute_result"
    }
   ],
   "source": [
    "#checking for Null Values\n",
    "df.isnull().sum()\n"
   ]
  },
  {
   "cell_type": "code",
   "execution_count": 8,
   "id": "5cba7249",
   "metadata": {},
   "outputs": [],
   "source": [
    "df.fillna(method='ffill',inplace=True)"
   ]
  },
  {
   "cell_type": "code",
   "execution_count": 9,
   "id": "927db041",
   "metadata": {},
   "outputs": [
    {
     "data": {
      "text/plain": [
       "Unnamed: 0     0\n",
       "flight_name    0\n",
       "flight_id      0\n",
       "start_time     0\n",
       "end_time       0\n",
       "travel_time    0\n",
       "stops          0\n",
       "fare           0\n",
       "source         0\n",
       "destination    0\n",
       "dtype: int64"
      ]
     },
     "execution_count": 9,
     "metadata": {},
     "output_type": "execute_result"
    }
   ],
   "source": [
    "df.isnull().sum()"
   ]
  },
  {
   "cell_type": "markdown",
   "id": "633c405c",
   "metadata": {},
   "source": [
    "There is not any null values present in dataset.\n",
    "\n"
   ]
  },
  {
   "cell_type": "code",
   "execution_count": 10,
   "id": "28de0edf",
   "metadata": {},
   "outputs": [
    {
     "data": {
      "text/plain": [
       "(4322, 10)"
      ]
     },
     "execution_count": 10,
     "metadata": {},
     "output_type": "execute_result"
    }
   ],
   "source": [
    "df.shape"
   ]
  },
  {
   "cell_type": "code",
   "execution_count": 11,
   "id": "b838b53f",
   "metadata": {},
   "outputs": [
    {
     "name": "stdout",
     "output_type": "stream",
     "text": [
      "<class 'pandas.core.frame.DataFrame'>\n",
      "RangeIndex: 4322 entries, 0 to 4321\n",
      "Data columns (total 10 columns):\n",
      " #   Column       Non-Null Count  Dtype \n",
      "---  ------       --------------  ----- \n",
      " 0   Unnamed: 0   4322 non-null   int64 \n",
      " 1   flight_name  4322 non-null   object\n",
      " 2   flight_id    4322 non-null   object\n",
      " 3   start_time   4322 non-null   object\n",
      " 4   end_time     4322 non-null   object\n",
      " 5   travel_time  4322 non-null   object\n",
      " 6   stops        4322 non-null   object\n",
      " 7   fare         4322 non-null   object\n",
      " 8   source       4322 non-null   object\n",
      " 9   destination  4322 non-null   object\n",
      "dtypes: int64(1), object(9)\n",
      "memory usage: 337.8+ KB\n"
     ]
    }
   ],
   "source": [
    "# to get basic information about dataset\n",
    "df.info()"
   ]
  },
  {
   "cell_type": "code",
   "execution_count": 12,
   "id": "93d1aced",
   "metadata": {},
   "outputs": [
    {
     "data": {
      "text/plain": [
       "Vistara         2009\n",
       "IndiGo          1495\n",
       "Air India        447\n",
       "Air Asia         163\n",
       "SpiceJet         103\n",
       "Go First          92\n",
       "Alliance Air      11\n",
       "FlyBig             2\n",
       "Name: flight_name, dtype: int64"
      ]
     },
     "execution_count": 12,
     "metadata": {},
     "output_type": "execute_result"
    }
   ],
   "source": [
    "df['flight_name'].value_counts()\n"
   ]
  },
  {
   "cell_type": "markdown",
   "id": "d7221e58",
   "metadata": {},
   "source": [
    "Most number of flights are from Vistara followed by Indigo and Air India.\n",
    "\n"
   ]
  },
  {
   "cell_type": "code",
   "execution_count": 13,
   "id": "553ce677",
   "metadata": {},
   "outputs": [
    {
     "data": {
      "text/plain": [
       "DEL-Delhi                 873\n",
       "CU-Kolkata                587\n",
       "BLR-Bengaluru             497\n",
       "BOM-Mumbai                412\n",
       "HYD-Hyderabad             357\n",
       "MAA-Chennai               238\n",
       "PAT-Patna                 197\n",
       "GOI-Goa                   193\n",
       "LKO-Lucknow               168\n",
       "GAU-Guwahati              143\n",
       "COK-Kochi                 140\n",
       "AMD-Ahmedabad             135\n",
       "BBI-Bhubaneshwar           95\n",
       "PNQ-Pune                   71\n",
       "JAI-Jaipur                 46\n",
       "VNS-Varanasi               35\n",
       "SXR-Srinagar               31\n",
       "IXR-Ranchi                 18\n",
       "VTZ-Vishakhapatnam         18\n",
       "IXC-Chandigarh             12\n",
       "IDR-Indore                 12\n",
       "ATQ-Amritsar                9\n",
       "RPR-Raipur                  7\n",
       "TRV-Thiruvananthapuram      6\n",
       "IXJ-Jammu                   6\n",
       "NAG-Nagpur                  5\n",
       "CCJ-Kozhikode               5\n",
       "IXB-Bagdogra                3\n",
       "CJB-Coimbatore              3\n",
       "Name: source, dtype: int64"
      ]
     },
     "execution_count": 13,
     "metadata": {},
     "output_type": "execute_result"
    }
   ],
   "source": [
    "df['source'].value_counts()\n"
   ]
  },
  {
   "cell_type": "code",
   "execution_count": 14,
   "id": "988502de",
   "metadata": {},
   "outputs": [
    {
     "data": {
      "text/plain": [
       "PNQ-Pune                  400\n",
       "BBI-Bhubaneshwar          249\n",
       "JAI-Jaipur                245\n",
       "GOI-Goa                   245\n",
       "AMD-Ahmedabad             244\n",
       "IXC-Chandigarh            230\n",
       "MAA-Chennai               188\n",
       "CJB-Coimbatore            184\n",
       "VNS-Varanasi              177\n",
       "COK-Kochi                 167\n",
       "SXR-Srinagar              165\n",
       "IDR-Indore                136\n",
       "CU-Kolkata                130\n",
       "BLR-Bengaluru             125\n",
       "IXJ-Jammu                 120\n",
       "LKO-Lucknow               120\n",
       "ATQ-Amritsar              118\n",
       "HYD-Hyderabad             117\n",
       "GAU-Guwahati              110\n",
       "VTZ-Vishakhapatnam        109\n",
       "TRV-Thiruvananthapuram    105\n",
       "RPR-Raipur                104\n",
       "BOM-Mumbai                102\n",
       "DED-Dehradun               99\n",
       "PAT-Patna                  97\n",
       "IXR-Ranchi                 89\n",
       "NAG-Nagpur                 61\n",
       "IXB-Bagdogra               46\n",
       "CCJ-Kozhikode              40\n",
       "Name: destination, dtype: int64"
      ]
     },
     "execution_count": 14,
     "metadata": {},
     "output_type": "execute_result"
    }
   ],
   "source": [
    "df['destination'].value_counts()\n"
   ]
  },
  {
   "cell_type": "code",
   "execution_count": 15,
   "id": "05dfd029",
   "metadata": {},
   "outputs": [
    {
     "data": {
      "text/plain": [
       "1 stop at Delhi             985\n",
       "1 stop at Mumbai            594\n",
       "1 stop at Bengaluru         462\n",
       "Non Stop                    357\n",
       "2 Stops (DEL, BOM)          329\n",
       "                           ... \n",
       "1 stop at Guwahati            1\n",
       "1 stop at Bagdogra            1\n",
       "1 stop at Tiruchirapally      1\n",
       "3 Stops (PNQ, DEL, SXR)       1\n",
       "2 Stops (BOM, HYD)            1\n",
       "Name: stops, Length: 90, dtype: int64"
      ]
     },
     "execution_count": 15,
     "metadata": {},
     "output_type": "execute_result"
    }
   ],
   "source": [
    "df['stops'].value_counts()\n"
   ]
  },
  {
   "cell_type": "code",
   "execution_count": 16,
   "id": "fd7a3c2c",
   "metadata": {},
   "outputs": [
    {
     "data": {
      "text/plain": [
       "18h 25m    66\n",
       "19h 5m     36\n",
       "11h 30m    31\n",
       "6h 45m     30\n",
       "17h 20m    29\n",
       "           ..\n",
       "26h 50m     1\n",
       "28h 55m     1\n",
       "29h 5m      1\n",
       "45m         1\n",
       "29h 55m     1\n",
       "Name: travel_time, Length: 342, dtype: int64"
      ]
     },
     "execution_count": 16,
     "metadata": {},
     "output_type": "execute_result"
    }
   ],
   "source": [
    "df['travel_time'].value_counts()\n"
   ]
  },
  {
   "cell_type": "markdown",
   "id": "06cd506a",
   "metadata": {},
   "source": [
    "# Data Cleaning\n"
   ]
  },
  {
   "cell_type": "code",
   "execution_count": 17,
   "id": "c952c7ff",
   "metadata": {},
   "outputs": [],
   "source": [
    "## Unnamed: 0 column is nothing but an index so dropping this column.\n",
    "df.drop('Unnamed: 0',axis=1,inplace = True)"
   ]
  },
  {
   "cell_type": "code",
   "execution_count": 18,
   "id": "79dd14e3",
   "metadata": {},
   "outputs": [
    {
     "data": {
      "text/html": [
       "<div>\n",
       "<style scoped>\n",
       "    .dataframe tbody tr th:only-of-type {\n",
       "        vertical-align: middle;\n",
       "    }\n",
       "\n",
       "    .dataframe tbody tr th {\n",
       "        vertical-align: top;\n",
       "    }\n",
       "\n",
       "    .dataframe thead th {\n",
       "        text-align: right;\n",
       "    }\n",
       "</style>\n",
       "<table border=\"1\" class=\"dataframe\">\n",
       "  <thead>\n",
       "    <tr style=\"text-align: right;\">\n",
       "      <th></th>\n",
       "      <th>flight_name</th>\n",
       "      <th>flight_id</th>\n",
       "      <th>start_time</th>\n",
       "      <th>end_time</th>\n",
       "      <th>travel_time</th>\n",
       "      <th>stops</th>\n",
       "      <th>fare</th>\n",
       "      <th>source</th>\n",
       "      <th>destination</th>\n",
       "    </tr>\n",
       "  </thead>\n",
       "  <tbody>\n",
       "    <tr>\n",
       "      <th>0</th>\n",
       "      <td>Go First</td>\n",
       "      <td>G8 - 713</td>\n",
       "      <td>19:15</td>\n",
       "      <td>00:20</td>\n",
       "      <td>5h 5m</td>\n",
       "      <td>1 stop at Ahmedabad</td>\n",
       "      <td>6,592</td>\n",
       "      <td>DEL-Delhi</td>\n",
       "      <td>BOM-Mumbai</td>\n",
       "    </tr>\n",
       "    <tr>\n",
       "      <th>1</th>\n",
       "      <td>Go First</td>\n",
       "      <td>G8 - 713</td>\n",
       "      <td>19:15</td>\n",
       "      <td>09:05</td>\n",
       "      <td>13h 50m</td>\n",
       "      <td>1 stop at Ahmedabad</td>\n",
       "      <td>6,906</td>\n",
       "      <td>DEL-Delhi</td>\n",
       "      <td>BOM-Mumbai</td>\n",
       "    </tr>\n",
       "    <tr>\n",
       "      <th>2</th>\n",
       "      <td>Go First</td>\n",
       "      <td>G8 - 336</td>\n",
       "      <td>15:15</td>\n",
       "      <td>17:20</td>\n",
       "      <td>2h 5m</td>\n",
       "      <td>Non Stop</td>\n",
       "      <td>7,319</td>\n",
       "      <td>DEL-Delhi</td>\n",
       "      <td>BOM-Mumbai</td>\n",
       "    </tr>\n",
       "    <tr>\n",
       "      <th>3</th>\n",
       "      <td>Go First</td>\n",
       "      <td>G8 - 323</td>\n",
       "      <td>18:20</td>\n",
       "      <td>20:35</td>\n",
       "      <td>2h 15m</td>\n",
       "      <td>Non Stop</td>\n",
       "      <td>7,319</td>\n",
       "      <td>DEL-Delhi</td>\n",
       "      <td>BOM-Mumbai</td>\n",
       "    </tr>\n",
       "    <tr>\n",
       "      <th>4</th>\n",
       "      <td>Go First</td>\n",
       "      <td>G8 - 330</td>\n",
       "      <td>20:50</td>\n",
       "      <td>23:05</td>\n",
       "      <td>2h 15m</td>\n",
       "      <td>Non Stop</td>\n",
       "      <td>7,319</td>\n",
       "      <td>DEL-Delhi</td>\n",
       "      <td>BOM-Mumbai</td>\n",
       "    </tr>\n",
       "  </tbody>\n",
       "</table>\n",
       "</div>"
      ],
      "text/plain": [
       "  flight_name flight_id start_time end_time travel_time                stops  \\\n",
       "0    Go First  G8 - 713      19:15    00:20       5h 5m  1 stop at Ahmedabad   \n",
       "1    Go First  G8 - 713      19:15    09:05     13h 50m  1 stop at Ahmedabad   \n",
       "2    Go First  G8 - 336      15:15    17:20       2h 5m             Non Stop   \n",
       "3    Go First  G8 - 323      18:20    20:35      2h 15m             Non Stop   \n",
       "4    Go First  G8 - 330      20:50    23:05      2h 15m             Non Stop   \n",
       "\n",
       "    fare     source destination  \n",
       "0  6,592  DEL-Delhi  BOM-Mumbai  \n",
       "1  6,906  DEL-Delhi  BOM-Mumbai  \n",
       "2  7,319  DEL-Delhi  BOM-Mumbai  \n",
       "3  7,319  DEL-Delhi  BOM-Mumbai  \n",
       "4  7,319  DEL-Delhi  BOM-Mumbai  "
      ]
     },
     "execution_count": 18,
     "metadata": {},
     "output_type": "execute_result"
    }
   ],
   "source": [
    "df.head()\n"
   ]
  },
  {
   "cell_type": "code",
   "execution_count": 19,
   "id": "ad1378fb",
   "metadata": {},
   "outputs": [],
   "source": [
    "## extracting Hour and Minute from start time:-\n",
    "df['dep_hour'] = pd.DatetimeIndex(df['start_time']).hour\n",
    "df['dep_minute'] = pd.DatetimeIndex(df['start_time']).minute"
   ]
  },
  {
   "cell_type": "code",
   "execution_count": 20,
   "id": "662a1a13",
   "metadata": {},
   "outputs": [
    {
     "data": {
      "text/html": [
       "<div>\n",
       "<style scoped>\n",
       "    .dataframe tbody tr th:only-of-type {\n",
       "        vertical-align: middle;\n",
       "    }\n",
       "\n",
       "    .dataframe tbody tr th {\n",
       "        vertical-align: top;\n",
       "    }\n",
       "\n",
       "    .dataframe thead th {\n",
       "        text-align: right;\n",
       "    }\n",
       "</style>\n",
       "<table border=\"1\" class=\"dataframe\">\n",
       "  <thead>\n",
       "    <tr style=\"text-align: right;\">\n",
       "      <th></th>\n",
       "      <th>flight_name</th>\n",
       "      <th>flight_id</th>\n",
       "      <th>start_time</th>\n",
       "      <th>end_time</th>\n",
       "      <th>travel_time</th>\n",
       "      <th>stops</th>\n",
       "      <th>fare</th>\n",
       "      <th>source</th>\n",
       "      <th>destination</th>\n",
       "      <th>dep_hour</th>\n",
       "      <th>dep_minute</th>\n",
       "    </tr>\n",
       "  </thead>\n",
       "  <tbody>\n",
       "    <tr>\n",
       "      <th>0</th>\n",
       "      <td>Go First</td>\n",
       "      <td>G8 - 713</td>\n",
       "      <td>19:15</td>\n",
       "      <td>00:20</td>\n",
       "      <td>5h 5m</td>\n",
       "      <td>1 stop at Ahmedabad</td>\n",
       "      <td>6,592</td>\n",
       "      <td>DEL-Delhi</td>\n",
       "      <td>BOM-Mumbai</td>\n",
       "      <td>19</td>\n",
       "      <td>15</td>\n",
       "    </tr>\n",
       "    <tr>\n",
       "      <th>1</th>\n",
       "      <td>Go First</td>\n",
       "      <td>G8 - 713</td>\n",
       "      <td>19:15</td>\n",
       "      <td>09:05</td>\n",
       "      <td>13h 50m</td>\n",
       "      <td>1 stop at Ahmedabad</td>\n",
       "      <td>6,906</td>\n",
       "      <td>DEL-Delhi</td>\n",
       "      <td>BOM-Mumbai</td>\n",
       "      <td>19</td>\n",
       "      <td>15</td>\n",
       "    </tr>\n",
       "    <tr>\n",
       "      <th>2</th>\n",
       "      <td>Go First</td>\n",
       "      <td>G8 - 336</td>\n",
       "      <td>15:15</td>\n",
       "      <td>17:20</td>\n",
       "      <td>2h 5m</td>\n",
       "      <td>Non Stop</td>\n",
       "      <td>7,319</td>\n",
       "      <td>DEL-Delhi</td>\n",
       "      <td>BOM-Mumbai</td>\n",
       "      <td>15</td>\n",
       "      <td>15</td>\n",
       "    </tr>\n",
       "    <tr>\n",
       "      <th>3</th>\n",
       "      <td>Go First</td>\n",
       "      <td>G8 - 323</td>\n",
       "      <td>18:20</td>\n",
       "      <td>20:35</td>\n",
       "      <td>2h 15m</td>\n",
       "      <td>Non Stop</td>\n",
       "      <td>7,319</td>\n",
       "      <td>DEL-Delhi</td>\n",
       "      <td>BOM-Mumbai</td>\n",
       "      <td>18</td>\n",
       "      <td>20</td>\n",
       "    </tr>\n",
       "    <tr>\n",
       "      <th>4</th>\n",
       "      <td>Go First</td>\n",
       "      <td>G8 - 330</td>\n",
       "      <td>20:50</td>\n",
       "      <td>23:05</td>\n",
       "      <td>2h 15m</td>\n",
       "      <td>Non Stop</td>\n",
       "      <td>7,319</td>\n",
       "      <td>DEL-Delhi</td>\n",
       "      <td>BOM-Mumbai</td>\n",
       "      <td>20</td>\n",
       "      <td>50</td>\n",
       "    </tr>\n",
       "  </tbody>\n",
       "</table>\n",
       "</div>"
      ],
      "text/plain": [
       "  flight_name flight_id start_time end_time travel_time                stops  \\\n",
       "0    Go First  G8 - 713      19:15    00:20       5h 5m  1 stop at Ahmedabad   \n",
       "1    Go First  G8 - 713      19:15    09:05     13h 50m  1 stop at Ahmedabad   \n",
       "2    Go First  G8 - 336      15:15    17:20       2h 5m             Non Stop   \n",
       "3    Go First  G8 - 323      18:20    20:35      2h 15m             Non Stop   \n",
       "4    Go First  G8 - 330      20:50    23:05      2h 15m             Non Stop   \n",
       "\n",
       "    fare     source destination  dep_hour  dep_minute  \n",
       "0  6,592  DEL-Delhi  BOM-Mumbai        19          15  \n",
       "1  6,906  DEL-Delhi  BOM-Mumbai        19          15  \n",
       "2  7,319  DEL-Delhi  BOM-Mumbai        15          15  \n",
       "3  7,319  DEL-Delhi  BOM-Mumbai        18          20  \n",
       "4  7,319  DEL-Delhi  BOM-Mumbai        20          50  "
      ]
     },
     "execution_count": 20,
     "metadata": {},
     "output_type": "execute_result"
    }
   ],
   "source": [
    "df.head()"
   ]
  },
  {
   "cell_type": "code",
   "execution_count": 21,
   "id": "4927f28c",
   "metadata": {},
   "outputs": [],
   "source": [
    "## Extracted dep hour and dep minute, so dropping start_time column\n",
    "df.drop('start_time',axis=1,inplace = True )"
   ]
  },
  {
   "cell_type": "code",
   "execution_count": 22,
   "id": "db6d7ed1",
   "metadata": {},
   "outputs": [
    {
     "data": {
      "text/html": [
       "<div>\n",
       "<style scoped>\n",
       "    .dataframe tbody tr th:only-of-type {\n",
       "        vertical-align: middle;\n",
       "    }\n",
       "\n",
       "    .dataframe tbody tr th {\n",
       "        vertical-align: top;\n",
       "    }\n",
       "\n",
       "    .dataframe thead th {\n",
       "        text-align: right;\n",
       "    }\n",
       "</style>\n",
       "<table border=\"1\" class=\"dataframe\">\n",
       "  <thead>\n",
       "    <tr style=\"text-align: right;\">\n",
       "      <th></th>\n",
       "      <th>flight_name</th>\n",
       "      <th>flight_id</th>\n",
       "      <th>end_time</th>\n",
       "      <th>travel_time</th>\n",
       "      <th>stops</th>\n",
       "      <th>fare</th>\n",
       "      <th>source</th>\n",
       "      <th>destination</th>\n",
       "      <th>dep_hour</th>\n",
       "      <th>dep_minute</th>\n",
       "    </tr>\n",
       "  </thead>\n",
       "  <tbody>\n",
       "    <tr>\n",
       "      <th>0</th>\n",
       "      <td>Go First</td>\n",
       "      <td>G8 - 713</td>\n",
       "      <td>00:20</td>\n",
       "      <td>5h 5m</td>\n",
       "      <td>1 stop at Ahmedabad</td>\n",
       "      <td>6,592</td>\n",
       "      <td>DEL-Delhi</td>\n",
       "      <td>BOM-Mumbai</td>\n",
       "      <td>19</td>\n",
       "      <td>15</td>\n",
       "    </tr>\n",
       "    <tr>\n",
       "      <th>1</th>\n",
       "      <td>Go First</td>\n",
       "      <td>G8 - 713</td>\n",
       "      <td>09:05</td>\n",
       "      <td>13h 50m</td>\n",
       "      <td>1 stop at Ahmedabad</td>\n",
       "      <td>6,906</td>\n",
       "      <td>DEL-Delhi</td>\n",
       "      <td>BOM-Mumbai</td>\n",
       "      <td>19</td>\n",
       "      <td>15</td>\n",
       "    </tr>\n",
       "    <tr>\n",
       "      <th>2</th>\n",
       "      <td>Go First</td>\n",
       "      <td>G8 - 336</td>\n",
       "      <td>17:20</td>\n",
       "      <td>2h 5m</td>\n",
       "      <td>Non Stop</td>\n",
       "      <td>7,319</td>\n",
       "      <td>DEL-Delhi</td>\n",
       "      <td>BOM-Mumbai</td>\n",
       "      <td>15</td>\n",
       "      <td>15</td>\n",
       "    </tr>\n",
       "    <tr>\n",
       "      <th>3</th>\n",
       "      <td>Go First</td>\n",
       "      <td>G8 - 323</td>\n",
       "      <td>20:35</td>\n",
       "      <td>2h 15m</td>\n",
       "      <td>Non Stop</td>\n",
       "      <td>7,319</td>\n",
       "      <td>DEL-Delhi</td>\n",
       "      <td>BOM-Mumbai</td>\n",
       "      <td>18</td>\n",
       "      <td>20</td>\n",
       "    </tr>\n",
       "    <tr>\n",
       "      <th>4</th>\n",
       "      <td>Go First</td>\n",
       "      <td>G8 - 330</td>\n",
       "      <td>23:05</td>\n",
       "      <td>2h 15m</td>\n",
       "      <td>Non Stop</td>\n",
       "      <td>7,319</td>\n",
       "      <td>DEL-Delhi</td>\n",
       "      <td>BOM-Mumbai</td>\n",
       "      <td>20</td>\n",
       "      <td>50</td>\n",
       "    </tr>\n",
       "  </tbody>\n",
       "</table>\n",
       "</div>"
      ],
      "text/plain": [
       "  flight_name flight_id end_time travel_time                stops   fare  \\\n",
       "0    Go First  G8 - 713    00:20       5h 5m  1 stop at Ahmedabad  6,592   \n",
       "1    Go First  G8 - 713    09:05     13h 50m  1 stop at Ahmedabad  6,906   \n",
       "2    Go First  G8 - 336    17:20       2h 5m             Non Stop  7,319   \n",
       "3    Go First  G8 - 323    20:35      2h 15m             Non Stop  7,319   \n",
       "4    Go First  G8 - 330    23:05      2h 15m             Non Stop  7,319   \n",
       "\n",
       "      source destination  dep_hour  dep_minute  \n",
       "0  DEL-Delhi  BOM-Mumbai        19          15  \n",
       "1  DEL-Delhi  BOM-Mumbai        19          15  \n",
       "2  DEL-Delhi  BOM-Mumbai        15          15  \n",
       "3  DEL-Delhi  BOM-Mumbai        18          20  \n",
       "4  DEL-Delhi  BOM-Mumbai        20          50  "
      ]
     },
     "execution_count": 22,
     "metadata": {},
     "output_type": "execute_result"
    }
   ],
   "source": [
    "df.head()"
   ]
  },
  {
   "cell_type": "code",
   "execution_count": 23,
   "id": "6922f75b",
   "metadata": {},
   "outputs": [],
   "source": [
    "## Extract arrival hour and arrival minute from end time:\n",
    "df['arr_hour'] = pd.DatetimeIndex(df['end_time']).hour\n",
    "df['arr_minute'] = pd.DatetimeIndex(df['end_time']).minute"
   ]
  },
  {
   "cell_type": "code",
   "execution_count": 24,
   "id": "76561de2",
   "metadata": {},
   "outputs": [
    {
     "data": {
      "text/html": [
       "<div>\n",
       "<style scoped>\n",
       "    .dataframe tbody tr th:only-of-type {\n",
       "        vertical-align: middle;\n",
       "    }\n",
       "\n",
       "    .dataframe tbody tr th {\n",
       "        vertical-align: top;\n",
       "    }\n",
       "\n",
       "    .dataframe thead th {\n",
       "        text-align: right;\n",
       "    }\n",
       "</style>\n",
       "<table border=\"1\" class=\"dataframe\">\n",
       "  <thead>\n",
       "    <tr style=\"text-align: right;\">\n",
       "      <th></th>\n",
       "      <th>flight_name</th>\n",
       "      <th>flight_id</th>\n",
       "      <th>end_time</th>\n",
       "      <th>travel_time</th>\n",
       "      <th>stops</th>\n",
       "      <th>fare</th>\n",
       "      <th>source</th>\n",
       "      <th>destination</th>\n",
       "      <th>dep_hour</th>\n",
       "      <th>dep_minute</th>\n",
       "      <th>arr_hour</th>\n",
       "      <th>arr_minute</th>\n",
       "    </tr>\n",
       "  </thead>\n",
       "  <tbody>\n",
       "    <tr>\n",
       "      <th>0</th>\n",
       "      <td>Go First</td>\n",
       "      <td>G8 - 713</td>\n",
       "      <td>00:20</td>\n",
       "      <td>5h 5m</td>\n",
       "      <td>1 stop at Ahmedabad</td>\n",
       "      <td>6,592</td>\n",
       "      <td>DEL-Delhi</td>\n",
       "      <td>BOM-Mumbai</td>\n",
       "      <td>19</td>\n",
       "      <td>15</td>\n",
       "      <td>0</td>\n",
       "      <td>20</td>\n",
       "    </tr>\n",
       "    <tr>\n",
       "      <th>1</th>\n",
       "      <td>Go First</td>\n",
       "      <td>G8 - 713</td>\n",
       "      <td>09:05</td>\n",
       "      <td>13h 50m</td>\n",
       "      <td>1 stop at Ahmedabad</td>\n",
       "      <td>6,906</td>\n",
       "      <td>DEL-Delhi</td>\n",
       "      <td>BOM-Mumbai</td>\n",
       "      <td>19</td>\n",
       "      <td>15</td>\n",
       "      <td>9</td>\n",
       "      <td>5</td>\n",
       "    </tr>\n",
       "    <tr>\n",
       "      <th>2</th>\n",
       "      <td>Go First</td>\n",
       "      <td>G8 - 336</td>\n",
       "      <td>17:20</td>\n",
       "      <td>2h 5m</td>\n",
       "      <td>Non Stop</td>\n",
       "      <td>7,319</td>\n",
       "      <td>DEL-Delhi</td>\n",
       "      <td>BOM-Mumbai</td>\n",
       "      <td>15</td>\n",
       "      <td>15</td>\n",
       "      <td>17</td>\n",
       "      <td>20</td>\n",
       "    </tr>\n",
       "    <tr>\n",
       "      <th>3</th>\n",
       "      <td>Go First</td>\n",
       "      <td>G8 - 323</td>\n",
       "      <td>20:35</td>\n",
       "      <td>2h 15m</td>\n",
       "      <td>Non Stop</td>\n",
       "      <td>7,319</td>\n",
       "      <td>DEL-Delhi</td>\n",
       "      <td>BOM-Mumbai</td>\n",
       "      <td>18</td>\n",
       "      <td>20</td>\n",
       "      <td>20</td>\n",
       "      <td>35</td>\n",
       "    </tr>\n",
       "    <tr>\n",
       "      <th>4</th>\n",
       "      <td>Go First</td>\n",
       "      <td>G8 - 330</td>\n",
       "      <td>23:05</td>\n",
       "      <td>2h 15m</td>\n",
       "      <td>Non Stop</td>\n",
       "      <td>7,319</td>\n",
       "      <td>DEL-Delhi</td>\n",
       "      <td>BOM-Mumbai</td>\n",
       "      <td>20</td>\n",
       "      <td>50</td>\n",
       "      <td>23</td>\n",
       "      <td>5</td>\n",
       "    </tr>\n",
       "  </tbody>\n",
       "</table>\n",
       "</div>"
      ],
      "text/plain": [
       "  flight_name flight_id end_time travel_time                stops   fare  \\\n",
       "0    Go First  G8 - 713    00:20       5h 5m  1 stop at Ahmedabad  6,592   \n",
       "1    Go First  G8 - 713    09:05     13h 50m  1 stop at Ahmedabad  6,906   \n",
       "2    Go First  G8 - 336    17:20       2h 5m             Non Stop  7,319   \n",
       "3    Go First  G8 - 323    20:35      2h 15m             Non Stop  7,319   \n",
       "4    Go First  G8 - 330    23:05      2h 15m             Non Stop  7,319   \n",
       "\n",
       "      source destination  dep_hour  dep_minute  arr_hour  arr_minute  \n",
       "0  DEL-Delhi  BOM-Mumbai        19          15         0          20  \n",
       "1  DEL-Delhi  BOM-Mumbai        19          15         9           5  \n",
       "2  DEL-Delhi  BOM-Mumbai        15          15        17          20  \n",
       "3  DEL-Delhi  BOM-Mumbai        18          20        20          35  \n",
       "4  DEL-Delhi  BOM-Mumbai        20          50        23           5  "
      ]
     },
     "execution_count": 24,
     "metadata": {},
     "output_type": "execute_result"
    }
   ],
   "source": [
    "df.head()"
   ]
  },
  {
   "cell_type": "code",
   "execution_count": 25,
   "id": "4325acef",
   "metadata": {},
   "outputs": [],
   "source": [
    "## Dropping end_time column\n",
    "df.drop('end_time',axis =1,inplace = True )"
   ]
  },
  {
   "cell_type": "code",
   "execution_count": 26,
   "id": "e1f11d4f",
   "metadata": {},
   "outputs": [
    {
     "data": {
      "text/html": [
       "<div>\n",
       "<style scoped>\n",
       "    .dataframe tbody tr th:only-of-type {\n",
       "        vertical-align: middle;\n",
       "    }\n",
       "\n",
       "    .dataframe tbody tr th {\n",
       "        vertical-align: top;\n",
       "    }\n",
       "\n",
       "    .dataframe thead th {\n",
       "        text-align: right;\n",
       "    }\n",
       "</style>\n",
       "<table border=\"1\" class=\"dataframe\">\n",
       "  <thead>\n",
       "    <tr style=\"text-align: right;\">\n",
       "      <th></th>\n",
       "      <th>flight_name</th>\n",
       "      <th>flight_id</th>\n",
       "      <th>travel_time</th>\n",
       "      <th>stops</th>\n",
       "      <th>fare</th>\n",
       "      <th>source</th>\n",
       "      <th>destination</th>\n",
       "      <th>dep_hour</th>\n",
       "      <th>dep_minute</th>\n",
       "      <th>arr_hour</th>\n",
       "      <th>arr_minute</th>\n",
       "    </tr>\n",
       "  </thead>\n",
       "  <tbody>\n",
       "    <tr>\n",
       "      <th>0</th>\n",
       "      <td>Go First</td>\n",
       "      <td>G8 - 713</td>\n",
       "      <td>5h 5m</td>\n",
       "      <td>1 stop at Ahmedabad</td>\n",
       "      <td>6,592</td>\n",
       "      <td>DEL-Delhi</td>\n",
       "      <td>BOM-Mumbai</td>\n",
       "      <td>19</td>\n",
       "      <td>15</td>\n",
       "      <td>0</td>\n",
       "      <td>20</td>\n",
       "    </tr>\n",
       "    <tr>\n",
       "      <th>1</th>\n",
       "      <td>Go First</td>\n",
       "      <td>G8 - 713</td>\n",
       "      <td>13h 50m</td>\n",
       "      <td>1 stop at Ahmedabad</td>\n",
       "      <td>6,906</td>\n",
       "      <td>DEL-Delhi</td>\n",
       "      <td>BOM-Mumbai</td>\n",
       "      <td>19</td>\n",
       "      <td>15</td>\n",
       "      <td>9</td>\n",
       "      <td>5</td>\n",
       "    </tr>\n",
       "    <tr>\n",
       "      <th>2</th>\n",
       "      <td>Go First</td>\n",
       "      <td>G8 - 336</td>\n",
       "      <td>2h 5m</td>\n",
       "      <td>Non Stop</td>\n",
       "      <td>7,319</td>\n",
       "      <td>DEL-Delhi</td>\n",
       "      <td>BOM-Mumbai</td>\n",
       "      <td>15</td>\n",
       "      <td>15</td>\n",
       "      <td>17</td>\n",
       "      <td>20</td>\n",
       "    </tr>\n",
       "    <tr>\n",
       "      <th>3</th>\n",
       "      <td>Go First</td>\n",
       "      <td>G8 - 323</td>\n",
       "      <td>2h 15m</td>\n",
       "      <td>Non Stop</td>\n",
       "      <td>7,319</td>\n",
       "      <td>DEL-Delhi</td>\n",
       "      <td>BOM-Mumbai</td>\n",
       "      <td>18</td>\n",
       "      <td>20</td>\n",
       "      <td>20</td>\n",
       "      <td>35</td>\n",
       "    </tr>\n",
       "    <tr>\n",
       "      <th>4</th>\n",
       "      <td>Go First</td>\n",
       "      <td>G8 - 330</td>\n",
       "      <td>2h 15m</td>\n",
       "      <td>Non Stop</td>\n",
       "      <td>7,319</td>\n",
       "      <td>DEL-Delhi</td>\n",
       "      <td>BOM-Mumbai</td>\n",
       "      <td>20</td>\n",
       "      <td>50</td>\n",
       "      <td>23</td>\n",
       "      <td>5</td>\n",
       "    </tr>\n",
       "  </tbody>\n",
       "</table>\n",
       "</div>"
      ],
      "text/plain": [
       "  flight_name flight_id travel_time                stops   fare     source  \\\n",
       "0    Go First  G8 - 713       5h 5m  1 stop at Ahmedabad  6,592  DEL-Delhi   \n",
       "1    Go First  G8 - 713     13h 50m  1 stop at Ahmedabad  6,906  DEL-Delhi   \n",
       "2    Go First  G8 - 336       2h 5m             Non Stop  7,319  DEL-Delhi   \n",
       "3    Go First  G8 - 323      2h 15m             Non Stop  7,319  DEL-Delhi   \n",
       "4    Go First  G8 - 330      2h 15m             Non Stop  7,319  DEL-Delhi   \n",
       "\n",
       "  destination  dep_hour  dep_minute  arr_hour  arr_minute  \n",
       "0  BOM-Mumbai        19          15         0          20  \n",
       "1  BOM-Mumbai        19          15         9           5  \n",
       "2  BOM-Mumbai        15          15        17          20  \n",
       "3  BOM-Mumbai        18          20        20          35  \n",
       "4  BOM-Mumbai        20          50        23           5  "
      ]
     },
     "execution_count": 26,
     "metadata": {},
     "output_type": "execute_result"
    }
   ],
   "source": [
    "df.head()"
   ]
  },
  {
   "cell_type": "code",
   "execution_count": 27,
   "id": "bc9b0ffe",
   "metadata": {},
   "outputs": [],
   "source": [
    "## Let us convert travel_time column into Hour and minute format:-\n",
    "## Creating empty lists to contain hours and minute data\n",
    "travel_hours =[]\n",
    "travel_minutes =[]\n",
    "\n",
    "duration = list(df[\"travel_time\"])\n",
    "\n",
    "for i in range(len(duration)):\n",
    "    if len(duration[i].split()) != 2:\n",
    "        if \"h\" in duration[i]:\n",
    "            duration[i] = duration[i].strip()+ \" 0m\"\n",
    "        else:\n",
    "            duration[i] = \"0h \" +duration[i]\n",
    "\n",
    "for i in range(len(duration)):\n",
    "    travel_hours.append(int(duration[i].split(sep=\"h\")[0]))\n",
    "    travel_minutes.append(int(duration[i].split(sep=\"m\")[0].split()[-1]))\n",
    "    \n",
    "#print(travel_hours)\n",
    "#print(travel_minutes)"
   ]
  },
  {
   "cell_type": "code",
   "execution_count": 28,
   "id": "a8ceb7b0",
   "metadata": {},
   "outputs": [],
   "source": [
    "df['travel_hours'] = travel_hours\n",
    "df['travel_minutes'] = travel_minutes"
   ]
  },
  {
   "cell_type": "code",
   "execution_count": 29,
   "id": "d78fc1cf",
   "metadata": {},
   "outputs": [
    {
     "data": {
      "text/html": [
       "<div>\n",
       "<style scoped>\n",
       "    .dataframe tbody tr th:only-of-type {\n",
       "        vertical-align: middle;\n",
       "    }\n",
       "\n",
       "    .dataframe tbody tr th {\n",
       "        vertical-align: top;\n",
       "    }\n",
       "\n",
       "    .dataframe thead th {\n",
       "        text-align: right;\n",
       "    }\n",
       "</style>\n",
       "<table border=\"1\" class=\"dataframe\">\n",
       "  <thead>\n",
       "    <tr style=\"text-align: right;\">\n",
       "      <th></th>\n",
       "      <th>flight_name</th>\n",
       "      <th>flight_id</th>\n",
       "      <th>travel_time</th>\n",
       "      <th>stops</th>\n",
       "      <th>fare</th>\n",
       "      <th>source</th>\n",
       "      <th>destination</th>\n",
       "      <th>dep_hour</th>\n",
       "      <th>dep_minute</th>\n",
       "      <th>arr_hour</th>\n",
       "      <th>arr_minute</th>\n",
       "      <th>travel_hours</th>\n",
       "      <th>travel_minutes</th>\n",
       "    </tr>\n",
       "  </thead>\n",
       "  <tbody>\n",
       "    <tr>\n",
       "      <th>0</th>\n",
       "      <td>Go First</td>\n",
       "      <td>G8 - 713</td>\n",
       "      <td>5h 5m</td>\n",
       "      <td>1 stop at Ahmedabad</td>\n",
       "      <td>6,592</td>\n",
       "      <td>DEL-Delhi</td>\n",
       "      <td>BOM-Mumbai</td>\n",
       "      <td>19</td>\n",
       "      <td>15</td>\n",
       "      <td>0</td>\n",
       "      <td>20</td>\n",
       "      <td>5</td>\n",
       "      <td>5</td>\n",
       "    </tr>\n",
       "    <tr>\n",
       "      <th>1</th>\n",
       "      <td>Go First</td>\n",
       "      <td>G8 - 713</td>\n",
       "      <td>13h 50m</td>\n",
       "      <td>1 stop at Ahmedabad</td>\n",
       "      <td>6,906</td>\n",
       "      <td>DEL-Delhi</td>\n",
       "      <td>BOM-Mumbai</td>\n",
       "      <td>19</td>\n",
       "      <td>15</td>\n",
       "      <td>9</td>\n",
       "      <td>5</td>\n",
       "      <td>13</td>\n",
       "      <td>50</td>\n",
       "    </tr>\n",
       "    <tr>\n",
       "      <th>2</th>\n",
       "      <td>Go First</td>\n",
       "      <td>G8 - 336</td>\n",
       "      <td>2h 5m</td>\n",
       "      <td>Non Stop</td>\n",
       "      <td>7,319</td>\n",
       "      <td>DEL-Delhi</td>\n",
       "      <td>BOM-Mumbai</td>\n",
       "      <td>15</td>\n",
       "      <td>15</td>\n",
       "      <td>17</td>\n",
       "      <td>20</td>\n",
       "      <td>2</td>\n",
       "      <td>5</td>\n",
       "    </tr>\n",
       "    <tr>\n",
       "      <th>3</th>\n",
       "      <td>Go First</td>\n",
       "      <td>G8 - 323</td>\n",
       "      <td>2h 15m</td>\n",
       "      <td>Non Stop</td>\n",
       "      <td>7,319</td>\n",
       "      <td>DEL-Delhi</td>\n",
       "      <td>BOM-Mumbai</td>\n",
       "      <td>18</td>\n",
       "      <td>20</td>\n",
       "      <td>20</td>\n",
       "      <td>35</td>\n",
       "      <td>2</td>\n",
       "      <td>15</td>\n",
       "    </tr>\n",
       "    <tr>\n",
       "      <th>4</th>\n",
       "      <td>Go First</td>\n",
       "      <td>G8 - 330</td>\n",
       "      <td>2h 15m</td>\n",
       "      <td>Non Stop</td>\n",
       "      <td>7,319</td>\n",
       "      <td>DEL-Delhi</td>\n",
       "      <td>BOM-Mumbai</td>\n",
       "      <td>20</td>\n",
       "      <td>50</td>\n",
       "      <td>23</td>\n",
       "      <td>5</td>\n",
       "      <td>2</td>\n",
       "      <td>15</td>\n",
       "    </tr>\n",
       "  </tbody>\n",
       "</table>\n",
       "</div>"
      ],
      "text/plain": [
       "  flight_name flight_id travel_time                stops   fare     source  \\\n",
       "0    Go First  G8 - 713       5h 5m  1 stop at Ahmedabad  6,592  DEL-Delhi   \n",
       "1    Go First  G8 - 713     13h 50m  1 stop at Ahmedabad  6,906  DEL-Delhi   \n",
       "2    Go First  G8 - 336       2h 5m             Non Stop  7,319  DEL-Delhi   \n",
       "3    Go First  G8 - 323      2h 15m             Non Stop  7,319  DEL-Delhi   \n",
       "4    Go First  G8 - 330      2h 15m             Non Stop  7,319  DEL-Delhi   \n",
       "\n",
       "  destination  dep_hour  dep_minute  arr_hour  arr_minute  travel_hours  \\\n",
       "0  BOM-Mumbai        19          15         0          20             5   \n",
       "1  BOM-Mumbai        19          15         9           5            13   \n",
       "2  BOM-Mumbai        15          15        17          20             2   \n",
       "3  BOM-Mumbai        18          20        20          35             2   \n",
       "4  BOM-Mumbai        20          50        23           5             2   \n",
       "\n",
       "   travel_minutes  \n",
       "0               5  \n",
       "1              50  \n",
       "2               5  \n",
       "3              15  \n",
       "4              15  "
      ]
     },
     "execution_count": 29,
     "metadata": {},
     "output_type": "execute_result"
    }
   ],
   "source": [
    "df.head()"
   ]
  },
  {
   "cell_type": "code",
   "execution_count": 30,
   "id": "da016cc2",
   "metadata": {},
   "outputs": [],
   "source": [
    "## let's take only city name from source :-\n",
    "df['source'] = [i.split(\"-\")[1] for i in df['source']]"
   ]
  },
  {
   "cell_type": "code",
   "execution_count": 31,
   "id": "f3782dae",
   "metadata": {},
   "outputs": [],
   "source": [
    "## let's take only city name from destination :-\n",
    "\n",
    "df['destination'] = [i.split(\"-\")[1] for i in df['destination']]"
   ]
  },
  {
   "cell_type": "code",
   "execution_count": 32,
   "id": "1233b281",
   "metadata": {},
   "outputs": [
    {
     "data": {
      "text/html": [
       "<div>\n",
       "<style scoped>\n",
       "    .dataframe tbody tr th:only-of-type {\n",
       "        vertical-align: middle;\n",
       "    }\n",
       "\n",
       "    .dataframe tbody tr th {\n",
       "        vertical-align: top;\n",
       "    }\n",
       "\n",
       "    .dataframe thead th {\n",
       "        text-align: right;\n",
       "    }\n",
       "</style>\n",
       "<table border=\"1\" class=\"dataframe\">\n",
       "  <thead>\n",
       "    <tr style=\"text-align: right;\">\n",
       "      <th></th>\n",
       "      <th>flight_name</th>\n",
       "      <th>flight_id</th>\n",
       "      <th>travel_time</th>\n",
       "      <th>stops</th>\n",
       "      <th>fare</th>\n",
       "      <th>source</th>\n",
       "      <th>destination</th>\n",
       "      <th>dep_hour</th>\n",
       "      <th>dep_minute</th>\n",
       "      <th>arr_hour</th>\n",
       "      <th>arr_minute</th>\n",
       "      <th>travel_hours</th>\n",
       "      <th>travel_minutes</th>\n",
       "    </tr>\n",
       "  </thead>\n",
       "  <tbody>\n",
       "    <tr>\n",
       "      <th>0</th>\n",
       "      <td>Go First</td>\n",
       "      <td>G8 - 713</td>\n",
       "      <td>5h 5m</td>\n",
       "      <td>1 stop at Ahmedabad</td>\n",
       "      <td>6,592</td>\n",
       "      <td>Delhi</td>\n",
       "      <td>Mumbai</td>\n",
       "      <td>19</td>\n",
       "      <td>15</td>\n",
       "      <td>0</td>\n",
       "      <td>20</td>\n",
       "      <td>5</td>\n",
       "      <td>5</td>\n",
       "    </tr>\n",
       "    <tr>\n",
       "      <th>1</th>\n",
       "      <td>Go First</td>\n",
       "      <td>G8 - 713</td>\n",
       "      <td>13h 50m</td>\n",
       "      <td>1 stop at Ahmedabad</td>\n",
       "      <td>6,906</td>\n",
       "      <td>Delhi</td>\n",
       "      <td>Mumbai</td>\n",
       "      <td>19</td>\n",
       "      <td>15</td>\n",
       "      <td>9</td>\n",
       "      <td>5</td>\n",
       "      <td>13</td>\n",
       "      <td>50</td>\n",
       "    </tr>\n",
       "    <tr>\n",
       "      <th>2</th>\n",
       "      <td>Go First</td>\n",
       "      <td>G8 - 336</td>\n",
       "      <td>2h 5m</td>\n",
       "      <td>Non Stop</td>\n",
       "      <td>7,319</td>\n",
       "      <td>Delhi</td>\n",
       "      <td>Mumbai</td>\n",
       "      <td>15</td>\n",
       "      <td>15</td>\n",
       "      <td>17</td>\n",
       "      <td>20</td>\n",
       "      <td>2</td>\n",
       "      <td>5</td>\n",
       "    </tr>\n",
       "    <tr>\n",
       "      <th>3</th>\n",
       "      <td>Go First</td>\n",
       "      <td>G8 - 323</td>\n",
       "      <td>2h 15m</td>\n",
       "      <td>Non Stop</td>\n",
       "      <td>7,319</td>\n",
       "      <td>Delhi</td>\n",
       "      <td>Mumbai</td>\n",
       "      <td>18</td>\n",
       "      <td>20</td>\n",
       "      <td>20</td>\n",
       "      <td>35</td>\n",
       "      <td>2</td>\n",
       "      <td>15</td>\n",
       "    </tr>\n",
       "    <tr>\n",
       "      <th>4</th>\n",
       "      <td>Go First</td>\n",
       "      <td>G8 - 330</td>\n",
       "      <td>2h 15m</td>\n",
       "      <td>Non Stop</td>\n",
       "      <td>7,319</td>\n",
       "      <td>Delhi</td>\n",
       "      <td>Mumbai</td>\n",
       "      <td>20</td>\n",
       "      <td>50</td>\n",
       "      <td>23</td>\n",
       "      <td>5</td>\n",
       "      <td>2</td>\n",
       "      <td>15</td>\n",
       "    </tr>\n",
       "  </tbody>\n",
       "</table>\n",
       "</div>"
      ],
      "text/plain": [
       "  flight_name flight_id travel_time                stops   fare source  \\\n",
       "0    Go First  G8 - 713       5h 5m  1 stop at Ahmedabad  6,592  Delhi   \n",
       "1    Go First  G8 - 713     13h 50m  1 stop at Ahmedabad  6,906  Delhi   \n",
       "2    Go First  G8 - 336       2h 5m             Non Stop  7,319  Delhi   \n",
       "3    Go First  G8 - 323      2h 15m             Non Stop  7,319  Delhi   \n",
       "4    Go First  G8 - 330      2h 15m             Non Stop  7,319  Delhi   \n",
       "\n",
       "  destination  dep_hour  dep_minute  arr_hour  arr_minute  travel_hours  \\\n",
       "0      Mumbai        19          15         0          20             5   \n",
       "1      Mumbai        19          15         9           5            13   \n",
       "2      Mumbai        15          15        17          20             2   \n",
       "3      Mumbai        18          20        20          35             2   \n",
       "4      Mumbai        20          50        23           5             2   \n",
       "\n",
       "   travel_minutes  \n",
       "0               5  \n",
       "1              50  \n",
       "2               5  \n",
       "3              15  \n",
       "4              15  "
      ]
     },
     "execution_count": 32,
     "metadata": {},
     "output_type": "execute_result"
    }
   ],
   "source": [
    "df.head()"
   ]
  },
  {
   "cell_type": "code",
   "execution_count": 33,
   "id": "1329dda6",
   "metadata": {},
   "outputs": [],
   "source": [
    "## Removing comma drom fare:\n",
    "df['fare'] = [i.replace(\",\",\"\") for i in df['fare']]"
   ]
  },
  {
   "cell_type": "code",
   "execution_count": 34,
   "id": "abd5df57",
   "metadata": {},
   "outputs": [
    {
     "data": {
      "text/html": [
       "<div>\n",
       "<style scoped>\n",
       "    .dataframe tbody tr th:only-of-type {\n",
       "        vertical-align: middle;\n",
       "    }\n",
       "\n",
       "    .dataframe tbody tr th {\n",
       "        vertical-align: top;\n",
       "    }\n",
       "\n",
       "    .dataframe thead th {\n",
       "        text-align: right;\n",
       "    }\n",
       "</style>\n",
       "<table border=\"1\" class=\"dataframe\">\n",
       "  <thead>\n",
       "    <tr style=\"text-align: right;\">\n",
       "      <th></th>\n",
       "      <th>flight_name</th>\n",
       "      <th>flight_id</th>\n",
       "      <th>travel_time</th>\n",
       "      <th>stops</th>\n",
       "      <th>fare</th>\n",
       "      <th>source</th>\n",
       "      <th>destination</th>\n",
       "      <th>dep_hour</th>\n",
       "      <th>dep_minute</th>\n",
       "      <th>arr_hour</th>\n",
       "      <th>arr_minute</th>\n",
       "      <th>travel_hours</th>\n",
       "      <th>travel_minutes</th>\n",
       "    </tr>\n",
       "  </thead>\n",
       "  <tbody>\n",
       "    <tr>\n",
       "      <th>0</th>\n",
       "      <td>Go First</td>\n",
       "      <td>G8 - 713</td>\n",
       "      <td>5h 5m</td>\n",
       "      <td>1 stop at Ahmedabad</td>\n",
       "      <td>6592</td>\n",
       "      <td>Delhi</td>\n",
       "      <td>Mumbai</td>\n",
       "      <td>19</td>\n",
       "      <td>15</td>\n",
       "      <td>0</td>\n",
       "      <td>20</td>\n",
       "      <td>5</td>\n",
       "      <td>5</td>\n",
       "    </tr>\n",
       "    <tr>\n",
       "      <th>1</th>\n",
       "      <td>Go First</td>\n",
       "      <td>G8 - 713</td>\n",
       "      <td>13h 50m</td>\n",
       "      <td>1 stop at Ahmedabad</td>\n",
       "      <td>6906</td>\n",
       "      <td>Delhi</td>\n",
       "      <td>Mumbai</td>\n",
       "      <td>19</td>\n",
       "      <td>15</td>\n",
       "      <td>9</td>\n",
       "      <td>5</td>\n",
       "      <td>13</td>\n",
       "      <td>50</td>\n",
       "    </tr>\n",
       "    <tr>\n",
       "      <th>2</th>\n",
       "      <td>Go First</td>\n",
       "      <td>G8 - 336</td>\n",
       "      <td>2h 5m</td>\n",
       "      <td>Non Stop</td>\n",
       "      <td>7319</td>\n",
       "      <td>Delhi</td>\n",
       "      <td>Mumbai</td>\n",
       "      <td>15</td>\n",
       "      <td>15</td>\n",
       "      <td>17</td>\n",
       "      <td>20</td>\n",
       "      <td>2</td>\n",
       "      <td>5</td>\n",
       "    </tr>\n",
       "    <tr>\n",
       "      <th>3</th>\n",
       "      <td>Go First</td>\n",
       "      <td>G8 - 323</td>\n",
       "      <td>2h 15m</td>\n",
       "      <td>Non Stop</td>\n",
       "      <td>7319</td>\n",
       "      <td>Delhi</td>\n",
       "      <td>Mumbai</td>\n",
       "      <td>18</td>\n",
       "      <td>20</td>\n",
       "      <td>20</td>\n",
       "      <td>35</td>\n",
       "      <td>2</td>\n",
       "      <td>15</td>\n",
       "    </tr>\n",
       "    <tr>\n",
       "      <th>4</th>\n",
       "      <td>Go First</td>\n",
       "      <td>G8 - 330</td>\n",
       "      <td>2h 15m</td>\n",
       "      <td>Non Stop</td>\n",
       "      <td>7319</td>\n",
       "      <td>Delhi</td>\n",
       "      <td>Mumbai</td>\n",
       "      <td>20</td>\n",
       "      <td>50</td>\n",
       "      <td>23</td>\n",
       "      <td>5</td>\n",
       "      <td>2</td>\n",
       "      <td>15</td>\n",
       "    </tr>\n",
       "  </tbody>\n",
       "</table>\n",
       "</div>"
      ],
      "text/plain": [
       "  flight_name flight_id travel_time                stops  fare source  \\\n",
       "0    Go First  G8 - 713       5h 5m  1 stop at Ahmedabad  6592  Delhi   \n",
       "1    Go First  G8 - 713     13h 50m  1 stop at Ahmedabad  6906  Delhi   \n",
       "2    Go First  G8 - 336       2h 5m             Non Stop  7319  Delhi   \n",
       "3    Go First  G8 - 323      2h 15m             Non Stop  7319  Delhi   \n",
       "4    Go First  G8 - 330      2h 15m             Non Stop  7319  Delhi   \n",
       "\n",
       "  destination  dep_hour  dep_minute  arr_hour  arr_minute  travel_hours  \\\n",
       "0      Mumbai        19          15         0          20             5   \n",
       "1      Mumbai        19          15         9           5            13   \n",
       "2      Mumbai        15          15        17          20             2   \n",
       "3      Mumbai        18          20        20          35             2   \n",
       "4      Mumbai        20          50        23           5             2   \n",
       "\n",
       "   travel_minutes  \n",
       "0               5  \n",
       "1              50  \n",
       "2               5  \n",
       "3              15  \n",
       "4              15  "
      ]
     },
     "execution_count": 34,
     "metadata": {},
     "output_type": "execute_result"
    }
   ],
   "source": [
    "df.head()"
   ]
  },
  {
   "cell_type": "code",
   "execution_count": 35,
   "id": "3179f339",
   "metadata": {},
   "outputs": [],
   "source": [
    "## let's put stop in a proper format\n",
    "df['stops'] = df['stops'].str.lower().apply(lambda X: X.split('stop')[0])\n",
    "df['stops'] = df['stops'].str.replace('non','0')\n",
    "df['stops'] = df['stops'].astype('int')"
   ]
  },
  {
   "cell_type": "code",
   "execution_count": 36,
   "id": "c7eed707",
   "metadata": {},
   "outputs": [
    {
     "data": {
      "text/html": [
       "<div>\n",
       "<style scoped>\n",
       "    .dataframe tbody tr th:only-of-type {\n",
       "        vertical-align: middle;\n",
       "    }\n",
       "\n",
       "    .dataframe tbody tr th {\n",
       "        vertical-align: top;\n",
       "    }\n",
       "\n",
       "    .dataframe thead th {\n",
       "        text-align: right;\n",
       "    }\n",
       "</style>\n",
       "<table border=\"1\" class=\"dataframe\">\n",
       "  <thead>\n",
       "    <tr style=\"text-align: right;\">\n",
       "      <th></th>\n",
       "      <th>flight_name</th>\n",
       "      <th>flight_id</th>\n",
       "      <th>travel_time</th>\n",
       "      <th>stops</th>\n",
       "      <th>fare</th>\n",
       "      <th>source</th>\n",
       "      <th>destination</th>\n",
       "      <th>dep_hour</th>\n",
       "      <th>dep_minute</th>\n",
       "      <th>arr_hour</th>\n",
       "      <th>arr_minute</th>\n",
       "      <th>travel_hours</th>\n",
       "      <th>travel_minutes</th>\n",
       "    </tr>\n",
       "  </thead>\n",
       "  <tbody>\n",
       "    <tr>\n",
       "      <th>0</th>\n",
       "      <td>Go First</td>\n",
       "      <td>G8 - 713</td>\n",
       "      <td>5h 5m</td>\n",
       "      <td>1</td>\n",
       "      <td>6592</td>\n",
       "      <td>Delhi</td>\n",
       "      <td>Mumbai</td>\n",
       "      <td>19</td>\n",
       "      <td>15</td>\n",
       "      <td>0</td>\n",
       "      <td>20</td>\n",
       "      <td>5</td>\n",
       "      <td>5</td>\n",
       "    </tr>\n",
       "    <tr>\n",
       "      <th>1</th>\n",
       "      <td>Go First</td>\n",
       "      <td>G8 - 713</td>\n",
       "      <td>13h 50m</td>\n",
       "      <td>1</td>\n",
       "      <td>6906</td>\n",
       "      <td>Delhi</td>\n",
       "      <td>Mumbai</td>\n",
       "      <td>19</td>\n",
       "      <td>15</td>\n",
       "      <td>9</td>\n",
       "      <td>5</td>\n",
       "      <td>13</td>\n",
       "      <td>50</td>\n",
       "    </tr>\n",
       "    <tr>\n",
       "      <th>2</th>\n",
       "      <td>Go First</td>\n",
       "      <td>G8 - 336</td>\n",
       "      <td>2h 5m</td>\n",
       "      <td>0</td>\n",
       "      <td>7319</td>\n",
       "      <td>Delhi</td>\n",
       "      <td>Mumbai</td>\n",
       "      <td>15</td>\n",
       "      <td>15</td>\n",
       "      <td>17</td>\n",
       "      <td>20</td>\n",
       "      <td>2</td>\n",
       "      <td>5</td>\n",
       "    </tr>\n",
       "    <tr>\n",
       "      <th>3</th>\n",
       "      <td>Go First</td>\n",
       "      <td>G8 - 323</td>\n",
       "      <td>2h 15m</td>\n",
       "      <td>0</td>\n",
       "      <td>7319</td>\n",
       "      <td>Delhi</td>\n",
       "      <td>Mumbai</td>\n",
       "      <td>18</td>\n",
       "      <td>20</td>\n",
       "      <td>20</td>\n",
       "      <td>35</td>\n",
       "      <td>2</td>\n",
       "      <td>15</td>\n",
       "    </tr>\n",
       "    <tr>\n",
       "      <th>4</th>\n",
       "      <td>Go First</td>\n",
       "      <td>G8 - 330</td>\n",
       "      <td>2h 15m</td>\n",
       "      <td>0</td>\n",
       "      <td>7319</td>\n",
       "      <td>Delhi</td>\n",
       "      <td>Mumbai</td>\n",
       "      <td>20</td>\n",
       "      <td>50</td>\n",
       "      <td>23</td>\n",
       "      <td>5</td>\n",
       "      <td>2</td>\n",
       "      <td>15</td>\n",
       "    </tr>\n",
       "  </tbody>\n",
       "</table>\n",
       "</div>"
      ],
      "text/plain": [
       "  flight_name flight_id travel_time  stops  fare source destination  dep_hour  \\\n",
       "0    Go First  G8 - 713       5h 5m      1  6592  Delhi      Mumbai        19   \n",
       "1    Go First  G8 - 713     13h 50m      1  6906  Delhi      Mumbai        19   \n",
       "2    Go First  G8 - 336       2h 5m      0  7319  Delhi      Mumbai        15   \n",
       "3    Go First  G8 - 323      2h 15m      0  7319  Delhi      Mumbai        18   \n",
       "4    Go First  G8 - 330      2h 15m      0  7319  Delhi      Mumbai        20   \n",
       "\n",
       "   dep_minute  arr_hour  arr_minute  travel_hours  travel_minutes  \n",
       "0          15         0          20             5               5  \n",
       "1          15         9           5            13              50  \n",
       "2          15        17          20             2               5  \n",
       "3          20        20          35             2              15  \n",
       "4          50        23           5             2              15  "
      ]
     },
     "execution_count": 36,
     "metadata": {},
     "output_type": "execute_result"
    }
   ],
   "source": [
    "df.head()"
   ]
  },
  {
   "cell_type": "code",
   "execution_count": 37,
   "id": "0bb0bbb3",
   "metadata": {},
   "outputs": [],
   "source": [
    "## Dropping travel_time as we  already extracted travel hours and minutes\n",
    "df.drop('travel_time',axis=1,inplace=True)"
   ]
  },
  {
   "cell_type": "code",
   "execution_count": 38,
   "id": "452e03c7",
   "metadata": {},
   "outputs": [
    {
     "data": {
      "text/plain": [
       "flight_name       object\n",
       "flight_id         object\n",
       "stops              int32\n",
       "fare              object\n",
       "source            object\n",
       "destination       object\n",
       "dep_hour           int64\n",
       "dep_minute         int64\n",
       "arr_hour           int64\n",
       "arr_minute         int64\n",
       "travel_hours       int64\n",
       "travel_minutes     int64\n",
       "dtype: object"
      ]
     },
     "execution_count": 38,
     "metadata": {},
     "output_type": "execute_result"
    }
   ],
   "source": [
    "df.dtypes"
   ]
  },
  {
   "cell_type": "code",
   "execution_count": 39,
   "id": "b6bda22c",
   "metadata": {},
   "outputs": [],
   "source": [
    "## Converting fare data type from object to int type\n",
    "df['fare'] = df['fare'].astype('int')"
   ]
  },
  {
   "cell_type": "code",
   "execution_count": 40,
   "id": "1add87df",
   "metadata": {},
   "outputs": [
    {
     "data": {
      "text/plain": [
       "dtype('int32')"
      ]
     },
     "execution_count": 40,
     "metadata": {},
     "output_type": "execute_result"
    }
   ],
   "source": [
    "df['fare'].dtypes"
   ]
  },
  {
   "cell_type": "markdown",
   "id": "d03a7fc3",
   "metadata": {},
   "source": [
    "# Univariate Analysis"
   ]
  },
  {
   "cell_type": "code",
   "execution_count": 41,
   "id": "d85a56e0",
   "metadata": {},
   "outputs": [],
   "source": [
    "categorical_cols = df.select_dtypes(include=['object']).columns  \n",
    "# checking categorcial columns\n"
   ]
  },
  {
   "cell_type": "code",
   "execution_count": 42,
   "id": "314f6fc9",
   "metadata": {},
   "outputs": [
    {
     "data": {
      "text/plain": [
       "Index(['flight_name', 'flight_id', 'source', 'destination'], dtype='object')"
      ]
     },
     "execution_count": 42,
     "metadata": {},
     "output_type": "execute_result"
    }
   ],
   "source": [
    "categorical_cols"
   ]
  },
  {
   "cell_type": "code",
   "execution_count": 43,
   "id": "53bff731",
   "metadata": {},
   "outputs": [
    {
     "data": {
      "image/png": "[encoded data removed]",
      "text/plain": [
       "<Figure size 720x576 with 1 Axes>"
      ]
     },
     "metadata": {
      "needs_background": "light"
     },
     "output_type": "display_data"
    }
   ],
   "source": [
    "plt.figure(figsize=(10,8))\n",
    "sns.countplot(df['flight_name'])\n",
    "plt.show()"
   ]
  },
  {
   "cell_type": "markdown",
   "id": "82222e77",
   "metadata": {},
   "source": [
    "# Vistara flights are more in counts followed by Indigo and Air India.\n",
    "\n"
   ]
  },
  {
   "cell_type": "code",
   "execution_count": 44,
   "id": "e92ea057",
   "metadata": {},
   "outputs": [
    {
     "data": {
      "text/plain": [
       "<AxesSubplot:ylabel='flight_name'>"
      ]
     },
     "execution_count": 44,
     "metadata": {},
     "output_type": "execute_result"
    },
    {
     "data": {
      "image/png": "[encoded data removed]",
      "text/plain": [
       "<Figure size 432x288 with 1 Axes>"
      ]
     },
     "metadata": {},
     "output_type": "display_data"
    }
   ],
   "source": [
    "# Pie & count plot of Airline types\n",
    "df['flight_name'].value_counts().plot.pie(autopct='%2.1f%%',\n",
    "                                          textprops ={ 'fontsize':10,'fontweight' :'bold'})"
   ]
  },
  {
   "cell_type": "code",
   "execution_count": 45,
   "id": "042638bb",
   "metadata": {},
   "outputs": [
    {
     "data": {
      "image/png": "[encoded data removed]",
      "text/plain": [
       "<Figure size 360x360 with 1 Axes>"
      ]
     },
     "metadata": {
      "needs_background": "light"
     },
     "output_type": "display_data"
    }
   ],
   "source": [
    "plt.figure(figsize=(5,5))\n",
    "sns.countplot(df['flight_id'])\n",
    "plt.xticks(rotation=90)\n",
    "plt.show()\n"
   ]
  },
  {
   "cell_type": "code",
   "execution_count": 46,
   "id": "04820ba3",
   "metadata": {},
   "outputs": [
    {
     "data": {
      "image/png": "[encoded data removed]",
      "text/plain": [
       "<Figure size 720x576 with 1 Axes>"
      ]
     },
     "metadata": {
      "needs_background": "light"
     },
     "output_type": "display_data"
    }
   ],
   "source": [
    "plt.figure(figsize=(10,8))\n",
    "sns.countplot(df['source'])\n",
    "plt.xticks(rotation=90)\n",
    "plt.show()"
   ]
  },
  {
   "cell_type": "markdown",
   "id": "bf6e548d",
   "metadata": {},
   "source": [
    "Count of Delhi as source staion is more than any other cities.\n",
    "\n"
   ]
  },
  {
   "cell_type": "code",
   "execution_count": 47,
   "id": "7b3d6f12",
   "metadata": {},
   "outputs": [
    {
     "data": {
      "image/png": "[encoded data removed]",
      "text/plain": [
       "<Figure size 720x576 with 1 Axes>"
      ]
     },
     "metadata": {
      "needs_background": "light"
     },
     "output_type": "display_data"
    }
   ],
   "source": [
    "plt.figure(figsize=(10,8))\n",
    "sns.countplot(df['destination'])\n",
    "plt.xticks(rotation=90)\n",
    "plt.show()"
   ]
  },
  {
   "cell_type": "markdown",
   "id": "c9067808",
   "metadata": {},
   "source": [
    "count of pune as destination is more than any other cities.\n",
    "\n"
   ]
  },
  {
   "cell_type": "code",
   "execution_count": 48,
   "id": "22e3e75f",
   "metadata": {},
   "outputs": [
    {
     "data": {
      "text/plain": [
       "Index(['stops', 'fare', 'dep_hour', 'dep_minute', 'arr_hour', 'arr_minute',\n",
       "       'travel_hours', 'travel_minutes'],\n",
       "      dtype='object')"
      ]
     },
     "execution_count": 48,
     "metadata": {},
     "output_type": "execute_result"
    }
   ],
   "source": [
    "numerical_cols = df._get_numeric_data().columns\n",
    "numerical_cols"
   ]
  },
  {
   "cell_type": "code",
   "execution_count": 49,
   "id": "0639ca0b",
   "metadata": {},
   "outputs": [
    {
     "data": {
      "image/png": "[encoded data removed]",
      "text/plain": [
       "<Figure size 1440x1440 with 8 Axes>"
      ]
     },
     "metadata": {
      "needs_background": "light"
     },
     "output_type": "display_data"
    }
   ],
   "source": [
    "plt.figure(figsize=(20,20))\n",
    "graph = 1\n",
    "for i in numerical_cols:\n",
    "    if graph <= 8:\n",
    "        plt.subplot(4,2,graph)\n",
    "        df[i].hist(bins = 30 )\n",
    "        plt.xlabel(i)\n",
    "        graph += 1\n",
    "        \n",
    "plt.show()"
   ]
  },
  {
   "cell_type": "markdown",
   "id": "3835abd5",
   "metadata": {},
   "source": [
    "Observations:\n",
    "-> Most of stops are 1 stop followed by 2nd stop. -> Most of fare ranges between 10,000 to 25,000 rs."
   ]
  },
  {
   "cell_type": "code",
   "execution_count": 50,
   "id": "329d86b5",
   "metadata": {},
   "outputs": [
    {
     "data": {
      "image/png": "[encoded data removed]",
      "text/plain": [
       "<Figure size 1440x1440 with 8 Axes>"
      ]
     },
     "metadata": {
      "needs_background": "light"
     },
     "output_type": "display_data"
    }
   ],
   "source": [
    "## Distribution of data :\n",
    "plt.figure(figsize=(20,20))\n",
    "graph = 1\n",
    "for i in numerical_cols:\n",
    "    if graph <= 8:\n",
    "        plt.subplot(4,2,graph)\n",
    "        sns.distplot(df[i] )\n",
    "        plt.xlabel(i)\n",
    "        graph += 1\n",
    "        \n",
    "plt.show()    "
   ]
  },
  {
   "cell_type": "markdown",
   "id": "1613cfbb",
   "metadata": {},
   "source": [
    "Distribution of data seems normal. There is not very much skewness present in data.\n",
    "\n"
   ]
  },
  {
   "cell_type": "code",
   "execution_count": 51,
   "id": "f9235090",
   "metadata": {},
   "outputs": [
    {
     "data": {
      "image/png": "[encoded data removed]",
      "text/plain": [
       "<Figure size 720x360 with 1 Axes>"
      ]
     },
     "metadata": {
      "needs_background": "light"
     },
     "output_type": "display_data"
    },
    {
     "name": "stdout",
     "output_type": "stream",
     "text": [
      "Statistical information of fare :\n",
      " count     4322.000000\n",
      "mean     23771.051365\n",
      "std      12325.618377\n",
      "min       2596.000000\n",
      "25%      13410.000000\n",
      "50%      22509.500000\n",
      "75%      32401.750000\n",
      "max      69468.000000\n",
      "Name: fare, dtype: float64\n"
     ]
    }
   ],
   "source": [
    "df.fare.hist(bins =10,figsize=(10,5), color =\"green\")\n",
    "plt.axvline(np.mean(df.fare), linewidth = 5, color = \"red\", label = \"mean fare\")\n",
    "plt.xlabel(\"fare\")\n",
    "plt.ylabel(\"count\")\n",
    "plt.legend()\n",
    "plt.show()\n",
    "print(\"Statistical information of fare :\\n\",\\\n",
    "      df.fare.describe())\n"
   ]
  },
  {
   "cell_type": "markdown",
   "id": "c82b9864",
   "metadata": {},
   "source": [
    "Mean of the fare is 23771 rs"
   ]
  },
  {
   "cell_type": "code",
   "execution_count": 52,
   "id": "f88b0d5d",
   "metadata": {},
   "outputs": [
    {
     "data": {
      "image/png": "[encoded data removed]",
      "text/plain": [
       "<Figure size 720x360 with 1 Axes>"
      ]
     },
     "metadata": {
      "needs_background": "light"
     },
     "output_type": "display_data"
    },
    {
     "name": "stdout",
     "output_type": "stream",
     "text": [
      "Statistical information of travel hours :\n",
      " count    4322.000000\n",
      "mean       13.689727\n",
      "std         7.500041\n",
      "min         0.000000\n",
      "25%         7.000000\n",
      "50%        14.000000\n",
      "75%        20.000000\n",
      "max        30.000000\n",
      "Name: travel_hours, dtype: float64\n"
     ]
    }
   ],
   "source": [
    "df.travel_hours.hist(bins =10,figsize=(10,5), color =\"green\")\n",
    "plt.axvline(np.mean(df.travel_hours), linewidth = 5, color = \"red\", label = \"mean travel hours\")\n",
    "plt.xlabel(\"travel hours\")\n",
    "plt.ylabel(\"count\")\n",
    "plt.legend()\n",
    "plt.show()\n",
    "print(\"Statistical information of travel hours :\\n\",\\\n",
    "      df.travel_hours.describe())\n"
   ]
  },
  {
   "cell_type": "markdown",
   "id": "e4567647",
   "metadata": {},
   "source": [
    " Means of travel hours are 14 hours."
   ]
  },
  {
   "cell_type": "code",
   "execution_count": 53,
   "id": "a6a91380",
   "metadata": {},
   "outputs": [
    {
     "data": {
      "image/png": "[encoded data removed]",
      "text/plain": [
       "<Figure size 720x360 with 1 Axes>"
      ]
     },
     "metadata": {
      "needs_background": "light"
     },
     "output_type": "display_data"
    },
    {
     "name": "stdout",
     "output_type": "stream",
     "text": [
      "Statistical information of Departure hours :\n",
      " count    4322.000000\n",
      "mean       18.733457\n",
      "std         2.486852\n",
      "min        13.000000\n",
      "25%        17.000000\n",
      "50%        19.000000\n",
      "75%        21.000000\n",
      "max        23.000000\n",
      "Name: dep_hour, dtype: float64\n"
     ]
    }
   ],
   "source": [
    "df.dep_hour.hist(bins =10,figsize=(10,5), color =\"green\")\n",
    "plt.axvline(np.mean(df.dep_hour), linewidth = 5, color = \"red\", label = \"mean departure hours\")\n",
    "plt.xlabel(\"Departure hours\")\n",
    "plt.ylabel(\"count\")\n",
    "plt.legend()\n",
    "plt.show()\n",
    "print(\"Statistical information of Departure hours :\\n\",\\\n",
    "      df.dep_hour.describe())"
   ]
  },
  {
   "cell_type": "markdown",
   "id": "ee1e34d3",
   "metadata": {},
   "source": [
    "# Bi-Variate Analysis"
   ]
  },
  {
   "cell_type": "code",
   "execution_count": 54,
   "id": "0f197f52",
   "metadata": {},
   "outputs": [
    {
     "data": {
      "image/png": "[encoded data removed]",
      "text/plain": [
       "<Figure size 432x288 with 1 Axes>"
      ]
     },
     "metadata": {
      "needs_background": "light"
     },
     "output_type": "display_data"
    }
   ],
   "source": [
    "sns.barplot(x=\"flight_name\",y=\"fare\",data=df)\n",
    "plt.xticks(rotation=90)\n",
    "plt.show()"
   ]
  },
  {
   "cell_type": "markdown",
   "id": "a1c8e077",
   "metadata": {},
   "source": [
    "Air India flight's fares are costly followed by Vistara flights.\n",
    "\n"
   ]
  },
  {
   "cell_type": "code",
   "execution_count": 55,
   "id": "af6a4829",
   "metadata": {},
   "outputs": [
    {
     "data": {
      "image/png": "[encoded data removed]",
      "text/plain": [
       "<Figure size 432x288 with 1 Axes>"
      ]
     },
     "metadata": {
      "needs_background": "light"
     },
     "output_type": "display_data"
    }
   ],
   "source": [
    "sns.barplot(x=\"source\",y=\"fare\",data=df)\n",
    "plt.xticks(rotation=90)\n",
    "plt.show()"
   ]
  },
  {
   "cell_type": "markdown",
   "id": "a20ece81",
   "metadata": {},
   "source": [
    "From pune as source ,fares are high.\n",
    "\n"
   ]
  },
  {
   "cell_type": "code",
   "execution_count": 56,
   "id": "4fe96b91",
   "metadata": {},
   "outputs": [
    {
     "data": {
      "image/png": "[encoded data removed]",
      "text/plain": [
       "<Figure size 432x288 with 1 Axes>"
      ]
     },
     "metadata": {
      "needs_background": "light"
     },
     "output_type": "display_data"
    }
   ],
   "source": [
    "sns.barplot(x=\"destination\",y=\"fare\",data=df)\n",
    "plt.xticks(rotation=90)\n",
    "plt.show()"
   ]
  },
  {
   "cell_type": "markdown",
   "id": "ffcd7078",
   "metadata": {},
   "source": [
    "patna,kolkata,ranchi and raipur as destination,fares are high."
   ]
  },
  {
   "cell_type": "code",
   "execution_count": 57,
   "id": "aa6ee39c",
   "metadata": {},
   "outputs": [
    {
     "data": {
      "text/plain": [
       "<AxesSubplot:xlabel='stops', ylabel='fare'>"
      ]
     },
     "execution_count": 57,
     "metadata": {},
     "output_type": "execute_result"
    },
    {
     "data": {
      "image/png": "[encoded data removed]",
      "text/plain": [
       "<Figure size 432x288 with 1 Axes>"
      ]
     },
     "metadata": {
      "needs_background": "light"
     },
     "output_type": "display_data"
    }
   ],
   "source": [
    "sns.barplot(x=\"stops\",y=\"fare\",data=df)\n"
   ]
  },
  {
   "cell_type": "code",
   "execution_count": 58,
   "id": "46b8bc77",
   "metadata": {},
   "outputs": [
    {
     "data": {
      "image/png": "[encoded data removed]",
      "text/plain": [
       "<Figure size 1080x360 with 1 Axes>"
      ]
     },
     "metadata": {
      "needs_background": "light"
     },
     "output_type": "display_data"
    }
   ],
   "source": [
    "plt.figure(figsize=(15,5))\n",
    "sns.barplot(x = \"dep_hour\",y = \"fare\", data = df, palette = \"rainbow\")\n",
    "plt.axhline(np.mean(df.fare), color = \"b\", linestyle=\"dashed\", linewidth=2)\n",
    "plt.title(\"Departure hours Vs Fare\", fontsize = 30)\n",
    "plt.xticks(rotation=45)\n",
    "plt.show()\n"
   ]
  },
  {
   "cell_type": "code",
   "execution_count": 59,
   "id": "35ba51cb",
   "metadata": {},
   "outputs": [
    {
     "data": {
      "image/png": "[encoded data removed]",
      "text/plain": [
       "<Figure size 1080x360 with 1 Axes>"
      ]
     },
     "metadata": {
      "needs_background": "light"
     },
     "output_type": "display_data"
    }
   ],
   "source": [
    "plt.figure(figsize=(15,5))\n",
    "sns.barplot(x = \"arr_hour\",y = \"fare\", data = df, palette = \"rainbow\")\n",
    "plt.axhline(np.mean(df.fare), color = \"b\", linestyle=\"dashed\", linewidth=2)\n",
    "plt.title(\"Arrival hours Vs Fare\", fontsize = 30)\n",
    "plt.xticks(rotation=45)\n",
    "plt.show()"
   ]
  },
  {
   "cell_type": "code",
   "execution_count": 60,
   "id": "f1c9eeb0",
   "metadata": {},
   "outputs": [
    {
     "data": {
      "image/png": "[encoded data removed]",
      "text/plain": [
       "<Figure size 1080x360 with 1 Axes>"
      ]
     },
     "metadata": {
      "needs_background": "light"
     },
     "output_type": "display_data"
    }
   ],
   "source": [
    "plt.figure(figsize=(15,5))\n",
    "sns.barplot(x = \"travel_hours\",y = \"fare\", data = df, palette = \"rainbow\")\n",
    "plt.axhline(np.mean(df.fare), color = \"b\", linestyle=\"dashed\", linewidth=2)\n",
    "plt.title(\"Travel hours Vs Fare\", fontsize = 30)\n",
    "plt.xticks(rotation=45)\n",
    "plt.show()"
   ]
  },
  {
   "cell_type": "markdown",
   "id": "bcbeb990",
   "metadata": {},
   "source": [
    "# Multivariate Analysis\n"
   ]
  },
  {
   "cell_type": "code",
   "execution_count": 61,
   "id": "7fb08102",
   "metadata": {},
   "outputs": [
    {
     "data": {
      "text/plain": [
       "<seaborn.axisgrid.PairGrid at 0x1a5cc7e9550>"
      ]
     },
     "execution_count": 61,
     "metadata": {},
     "output_type": "execute_result"
    },
    {
     "data": {
      "image/png": "[encoded data removed]",
      "text/plain": [
       "<Figure size 720x180 with 4 Axes>"
      ]
     },
     "metadata": {
      "needs_background": "light"
     },
     "output_type": "display_data"
    }
   ],
   "source": [
    "sns.pairplot(df,y_vars=['fare'],x_vars=['stops','dep_hour','arr_hour','travel_hours'],kind = 'scatter')\n"
   ]
  },
  {
   "cell_type": "markdown",
   "id": "5a146902",
   "metadata": {},
   "source": [
    "# Observations from Multivariate analysis:\n",
    "-> stops and fare are in linear relationship.As stops increases ,Fare increases. -> from non stop flights to flights having stops ,fare changes in large jumps. -> before 9 am and after 8 pm ,fligh's fares are cheaper comparatively than after 10 am to 8 pm."
   ]
  },
  {
   "cell_type": "code",
   "execution_count": 62,
   "id": "77df2c5a",
   "metadata": {},
   "outputs": [
    {
     "data": {
      "text/html": [
       "<div>\n",
       "<style scoped>\n",
       "    .dataframe tbody tr th:only-of-type {\n",
       "        vertical-align: middle;\n",
       "    }\n",
       "\n",
       "    .dataframe tbody tr th {\n",
       "        vertical-align: top;\n",
       "    }\n",
       "\n",
       "    .dataframe thead th {\n",
       "        text-align: right;\n",
       "    }\n",
       "</style>\n",
       "<table border=\"1\" class=\"dataframe\">\n",
       "  <thead>\n",
       "    <tr style=\"text-align: right;\">\n",
       "      <th></th>\n",
       "      <th>flight_name</th>\n",
       "      <th>flight_id</th>\n",
       "      <th>stops</th>\n",
       "      <th>fare</th>\n",
       "      <th>source</th>\n",
       "      <th>destination</th>\n",
       "      <th>dep_hour</th>\n",
       "      <th>dep_minute</th>\n",
       "      <th>arr_hour</th>\n",
       "      <th>arr_minute</th>\n",
       "      <th>travel_hours</th>\n",
       "      <th>travel_minutes</th>\n",
       "    </tr>\n",
       "  </thead>\n",
       "  <tbody>\n",
       "    <tr>\n",
       "      <th>0</th>\n",
       "      <td>Go First</td>\n",
       "      <td>G8 - 713</td>\n",
       "      <td>1</td>\n",
       "      <td>6592</td>\n",
       "      <td>Delhi</td>\n",
       "      <td>Mumbai</td>\n",
       "      <td>19</td>\n",
       "      <td>15</td>\n",
       "      <td>0</td>\n",
       "      <td>20</td>\n",
       "      <td>5</td>\n",
       "      <td>5</td>\n",
       "    </tr>\n",
       "    <tr>\n",
       "      <th>1</th>\n",
       "      <td>Go First</td>\n",
       "      <td>G8 - 713</td>\n",
       "      <td>1</td>\n",
       "      <td>6906</td>\n",
       "      <td>Delhi</td>\n",
       "      <td>Mumbai</td>\n",
       "      <td>19</td>\n",
       "      <td>15</td>\n",
       "      <td>9</td>\n",
       "      <td>5</td>\n",
       "      <td>13</td>\n",
       "      <td>50</td>\n",
       "    </tr>\n",
       "    <tr>\n",
       "      <th>2</th>\n",
       "      <td>Go First</td>\n",
       "      <td>G8 - 336</td>\n",
       "      <td>0</td>\n",
       "      <td>7319</td>\n",
       "      <td>Delhi</td>\n",
       "      <td>Mumbai</td>\n",
       "      <td>15</td>\n",
       "      <td>15</td>\n",
       "      <td>17</td>\n",
       "      <td>20</td>\n",
       "      <td>2</td>\n",
       "      <td>5</td>\n",
       "    </tr>\n",
       "    <tr>\n",
       "      <th>3</th>\n",
       "      <td>Go First</td>\n",
       "      <td>G8 - 323</td>\n",
       "      <td>0</td>\n",
       "      <td>7319</td>\n",
       "      <td>Delhi</td>\n",
       "      <td>Mumbai</td>\n",
       "      <td>18</td>\n",
       "      <td>20</td>\n",
       "      <td>20</td>\n",
       "      <td>35</td>\n",
       "      <td>2</td>\n",
       "      <td>15</td>\n",
       "    </tr>\n",
       "    <tr>\n",
       "      <th>4</th>\n",
       "      <td>Go First</td>\n",
       "      <td>G8 - 330</td>\n",
       "      <td>0</td>\n",
       "      <td>7319</td>\n",
       "      <td>Delhi</td>\n",
       "      <td>Mumbai</td>\n",
       "      <td>20</td>\n",
       "      <td>50</td>\n",
       "      <td>23</td>\n",
       "      <td>5</td>\n",
       "      <td>2</td>\n",
       "      <td>15</td>\n",
       "    </tr>\n",
       "  </tbody>\n",
       "</table>\n",
       "</div>"
      ],
      "text/plain": [
       "  flight_name flight_id  stops  fare source destination  dep_hour  dep_minute  \\\n",
       "0    Go First  G8 - 713      1  6592  Delhi      Mumbai        19          15   \n",
       "1    Go First  G8 - 713      1  6906  Delhi      Mumbai        19          15   \n",
       "2    Go First  G8 - 336      0  7319  Delhi      Mumbai        15          15   \n",
       "3    Go First  G8 - 323      0  7319  Delhi      Mumbai        18          20   \n",
       "4    Go First  G8 - 330      0  7319  Delhi      Mumbai        20          50   \n",
       "\n",
       "   arr_hour  arr_minute  travel_hours  travel_minutes  \n",
       "0         0          20             5               5  \n",
       "1         9           5            13              50  \n",
       "2        17          20             2               5  \n",
       "3        20          35             2              15  \n",
       "4        23           5             2              15  "
      ]
     },
     "execution_count": 62,
     "metadata": {},
     "output_type": "execute_result"
    }
   ],
   "source": [
    "df.head()"
   ]
  },
  {
   "cell_type": "markdown",
   "id": "99022445",
   "metadata": {},
   "source": [
    "# Label Encoding\n"
   ]
  },
  {
   "cell_type": "code",
   "execution_count": 63,
   "id": "5a23b9f3",
   "metadata": {},
   "outputs": [
    {
     "data": {
      "text/html": [
       "<div>\n",
       "<style scoped>\n",
       "    .dataframe tbody tr th:only-of-type {\n",
       "        vertical-align: middle;\n",
       "    }\n",
       "\n",
       "    .dataframe tbody tr th {\n",
       "        vertical-align: top;\n",
       "    }\n",
       "\n",
       "    .dataframe thead th {\n",
       "        text-align: right;\n",
       "    }\n",
       "</style>\n",
       "<table border=\"1\" class=\"dataframe\">\n",
       "  <thead>\n",
       "    <tr style=\"text-align: right;\">\n",
       "      <th></th>\n",
       "      <th>flight_name</th>\n",
       "      <th>flight_id</th>\n",
       "      <th>stops</th>\n",
       "      <th>fare</th>\n",
       "      <th>source</th>\n",
       "      <th>destination</th>\n",
       "      <th>dep_hour</th>\n",
       "      <th>dep_minute</th>\n",
       "      <th>arr_hour</th>\n",
       "      <th>arr_minute</th>\n",
       "      <th>travel_hours</th>\n",
       "      <th>travel_minutes</th>\n",
       "    </tr>\n",
       "  </thead>\n",
       "  <tbody>\n",
       "    <tr>\n",
       "      <th>0</th>\n",
       "      <td>4</td>\n",
       "      <td>458</td>\n",
       "      <td>1</td>\n",
       "      <td>6592</td>\n",
       "      <td>8</td>\n",
       "      <td>19</td>\n",
       "      <td>19</td>\n",
       "      <td>15</td>\n",
       "      <td>0</td>\n",
       "      <td>20</td>\n",
       "      <td>5</td>\n",
       "      <td>5</td>\n",
       "    </tr>\n",
       "    <tr>\n",
       "      <th>1</th>\n",
       "      <td>4</td>\n",
       "      <td>458</td>\n",
       "      <td>1</td>\n",
       "      <td>6906</td>\n",
       "      <td>8</td>\n",
       "      <td>19</td>\n",
       "      <td>19</td>\n",
       "      <td>15</td>\n",
       "      <td>9</td>\n",
       "      <td>5</td>\n",
       "      <td>13</td>\n",
       "      <td>50</td>\n",
       "    </tr>\n",
       "    <tr>\n",
       "      <th>2</th>\n",
       "      <td>4</td>\n",
       "      <td>448</td>\n",
       "      <td>0</td>\n",
       "      <td>7319</td>\n",
       "      <td>8</td>\n",
       "      <td>19</td>\n",
       "      <td>15</td>\n",
       "      <td>15</td>\n",
       "      <td>17</td>\n",
       "      <td>20</td>\n",
       "      <td>2</td>\n",
       "      <td>5</td>\n",
       "    </tr>\n",
       "    <tr>\n",
       "      <th>3</th>\n",
       "      <td>4</td>\n",
       "      <td>445</td>\n",
       "      <td>0</td>\n",
       "      <td>7319</td>\n",
       "      <td>8</td>\n",
       "      <td>19</td>\n",
       "      <td>18</td>\n",
       "      <td>20</td>\n",
       "      <td>20</td>\n",
       "      <td>35</td>\n",
       "      <td>2</td>\n",
       "      <td>15</td>\n",
       "    </tr>\n",
       "    <tr>\n",
       "      <th>4</th>\n",
       "      <td>4</td>\n",
       "      <td>447</td>\n",
       "      <td>0</td>\n",
       "      <td>7319</td>\n",
       "      <td>8</td>\n",
       "      <td>19</td>\n",
       "      <td>20</td>\n",
       "      <td>50</td>\n",
       "      <td>23</td>\n",
       "      <td>5</td>\n",
       "      <td>2</td>\n",
       "      <td>15</td>\n",
       "    </tr>\n",
       "    <tr>\n",
       "      <th>...</th>\n",
       "      <td>...</td>\n",
       "      <td>...</td>\n",
       "      <td>...</td>\n",
       "      <td>...</td>\n",
       "      <td>...</td>\n",
       "      <td>...</td>\n",
       "      <td>...</td>\n",
       "      <td>...</td>\n",
       "      <td>...</td>\n",
       "      <td>...</td>\n",
       "      <td>...</td>\n",
       "      <td>...</td>\n",
       "    </tr>\n",
       "    <tr>\n",
       "      <th>4317</th>\n",
       "      <td>5</td>\n",
       "      <td>337</td>\n",
       "      <td>1</td>\n",
       "      <td>13713</td>\n",
       "      <td>14</td>\n",
       "      <td>8</td>\n",
       "      <td>20</td>\n",
       "      <td>5</td>\n",
       "      <td>7</td>\n",
       "      <td>35</td>\n",
       "      <td>11</td>\n",
       "      <td>30</td>\n",
       "    </tr>\n",
       "    <tr>\n",
       "      <th>4318</th>\n",
       "      <td>5</td>\n",
       "      <td>337</td>\n",
       "      <td>1</td>\n",
       "      <td>13713</td>\n",
       "      <td>14</td>\n",
       "      <td>8</td>\n",
       "      <td>20</td>\n",
       "      <td>5</td>\n",
       "      <td>7</td>\n",
       "      <td>35</td>\n",
       "      <td>11</td>\n",
       "      <td>30</td>\n",
       "    </tr>\n",
       "    <tr>\n",
       "      <th>4319</th>\n",
       "      <td>5</td>\n",
       "      <td>64</td>\n",
       "      <td>1</td>\n",
       "      <td>6877</td>\n",
       "      <td>7</td>\n",
       "      <td>8</td>\n",
       "      <td>21</td>\n",
       "      <td>40</td>\n",
       "      <td>6</td>\n",
       "      <td>45</td>\n",
       "      <td>9</td>\n",
       "      <td>5</td>\n",
       "    </tr>\n",
       "    <tr>\n",
       "      <th>4320</th>\n",
       "      <td>5</td>\n",
       "      <td>337</td>\n",
       "      <td>1</td>\n",
       "      <td>13713</td>\n",
       "      <td>7</td>\n",
       "      <td>8</td>\n",
       "      <td>20</td>\n",
       "      <td>5</td>\n",
       "      <td>7</td>\n",
       "      <td>35</td>\n",
       "      <td>11</td>\n",
       "      <td>30</td>\n",
       "    </tr>\n",
       "    <tr>\n",
       "      <th>4321</th>\n",
       "      <td>5</td>\n",
       "      <td>337</td>\n",
       "      <td>1</td>\n",
       "      <td>13713</td>\n",
       "      <td>7</td>\n",
       "      <td>8</td>\n",
       "      <td>20</td>\n",
       "      <td>5</td>\n",
       "      <td>7</td>\n",
       "      <td>35</td>\n",
       "      <td>11</td>\n",
       "      <td>30</td>\n",
       "    </tr>\n",
       "  </tbody>\n",
       "</table>\n",
       "<p>4322 rows × 12 columns</p>\n",
       "</div>"
      ],
      "text/plain": [
       "      flight_name  flight_id  stops   fare  source  destination  dep_hour  \\\n",
       "0               4        458      1   6592       8           19        19   \n",
       "1               4        458      1   6906       8           19        19   \n",
       "2               4        448      0   7319       8           19        15   \n",
       "3               4        445      0   7319       8           19        18   \n",
       "4               4        447      0   7319       8           19        20   \n",
       "...           ...        ...    ...    ...     ...          ...       ...   \n",
       "4317            5        337      1  13713      14            8        20   \n",
       "4318            5        337      1  13713      14            8        20   \n",
       "4319            5         64      1   6877       7            8        21   \n",
       "4320            5        337      1  13713       7            8        20   \n",
       "4321            5        337      1  13713       7            8        20   \n",
       "\n",
       "      dep_minute  arr_hour  arr_minute  travel_hours  travel_minutes  \n",
       "0             15         0          20             5               5  \n",
       "1             15         9           5            13              50  \n",
       "2             15        17          20             2               5  \n",
       "3             20        20          35             2              15  \n",
       "4             50        23           5             2              15  \n",
       "...          ...       ...         ...           ...             ...  \n",
       "4317           5         7          35            11              30  \n",
       "4318           5         7          35            11              30  \n",
       "4319          40         6          45             9               5  \n",
       "4320           5         7          35            11              30  \n",
       "4321           5         7          35            11              30  \n",
       "\n",
       "[4322 rows x 12 columns]"
      ]
     },
     "execution_count": 63,
     "metadata": {},
     "output_type": "execute_result"
    }
   ],
   "source": [
    "from sklearn.preprocessing import LabelEncoder\n",
    "categorical_cols = [ i for i in df.columns if df[i].dtype==object]\n",
    "lec = LabelEncoder()\n",
    "for column in categorical_cols:\n",
    "    df[column] = lec.fit_transform(df[column])\n",
    "df"
   ]
  },
  {
   "cell_type": "markdown",
   "id": "2f591464",
   "metadata": {},
   "source": [
    "# Statistical Description\n"
   ]
  },
  {
   "cell_type": "code",
   "execution_count": 64,
   "id": "186acd02",
   "metadata": {},
   "outputs": [
    {
     "data": {
      "text/html": [
       "<div>\n",
       "<style scoped>\n",
       "    .dataframe tbody tr th:only-of-type {\n",
       "        vertical-align: middle;\n",
       "    }\n",
       "\n",
       "    .dataframe tbody tr th {\n",
       "        vertical-align: top;\n",
       "    }\n",
       "\n",
       "    .dataframe thead th {\n",
       "        text-align: right;\n",
       "    }\n",
       "</style>\n",
       "<table border=\"1\" class=\"dataframe\">\n",
       "  <thead>\n",
       "    <tr style=\"text-align: right;\">\n",
       "      <th></th>\n",
       "      <th>flight_name</th>\n",
       "      <th>flight_id</th>\n",
       "      <th>stops</th>\n",
       "      <th>fare</th>\n",
       "      <th>source</th>\n",
       "      <th>destination</th>\n",
       "      <th>dep_hour</th>\n",
       "      <th>dep_minute</th>\n",
       "      <th>arr_hour</th>\n",
       "      <th>arr_minute</th>\n",
       "      <th>travel_hours</th>\n",
       "      <th>travel_minutes</th>\n",
       "    </tr>\n",
       "  </thead>\n",
       "  <tbody>\n",
       "    <tr>\n",
       "      <th>count</th>\n",
       "      <td>4322.000000</td>\n",
       "      <td>4322.000000</td>\n",
       "      <td>4322.000000</td>\n",
       "      <td>4322.000000</td>\n",
       "      <td>4322.000000</td>\n",
       "      <td>4322.000000</td>\n",
       "      <td>4322.000000</td>\n",
       "      <td>4322.000000</td>\n",
       "      <td>4322.000000</td>\n",
       "      <td>4322.000000</td>\n",
       "      <td>4322.000000</td>\n",
       "      <td>4322.000000</td>\n",
       "    </tr>\n",
       "    <tr>\n",
       "      <th>mean</th>\n",
       "      <td>5.321379</td>\n",
       "      <td>417.555761</td>\n",
       "      <td>1.184637</td>\n",
       "      <td>23771.051365</td>\n",
       "      <td>11.453031</td>\n",
       "      <td>13.341509</td>\n",
       "      <td>18.733457</td>\n",
       "      <td>26.817446</td>\n",
       "      <td>13.470153</td>\n",
       "      <td>29.211013</td>\n",
       "      <td>13.689727</td>\n",
       "      <td>26.673994</td>\n",
       "    </tr>\n",
       "    <tr>\n",
       "      <th>std</th>\n",
       "      <td>2.103468</td>\n",
       "      <td>192.923345</td>\n",
       "      <td>0.567307</td>\n",
       "      <td>12325.618377</td>\n",
       "      <td>6.355491</td>\n",
       "      <td>8.432614</td>\n",
       "      <td>2.486852</td>\n",
       "      <td>16.625801</td>\n",
       "      <td>6.321786</td>\n",
       "      <td>17.027820</td>\n",
       "      <td>7.500041</td>\n",
       "      <td>17.090930</td>\n",
       "    </tr>\n",
       "    <tr>\n",
       "      <th>min</th>\n",
       "      <td>0.000000</td>\n",
       "      <td>0.000000</td>\n",
       "      <td>0.000000</td>\n",
       "      <td>2596.000000</td>\n",
       "      <td>0.000000</td>\n",
       "      <td>0.000000</td>\n",
       "      <td>13.000000</td>\n",
       "      <td>0.000000</td>\n",
       "      <td>0.000000</td>\n",
       "      <td>0.000000</td>\n",
       "      <td>0.000000</td>\n",
       "      <td>0.000000</td>\n",
       "    </tr>\n",
       "    <tr>\n",
       "      <th>25%</th>\n",
       "      <td>5.000000</td>\n",
       "      <td>266.000000</td>\n",
       "      <td>1.000000</td>\n",
       "      <td>13410.000000</td>\n",
       "      <td>8.000000</td>\n",
       "      <td>6.000000</td>\n",
       "      <td>17.000000</td>\n",
       "      <td>15.000000</td>\n",
       "      <td>8.000000</td>\n",
       "      <td>15.000000</td>\n",
       "      <td>7.000000</td>\n",
       "      <td>10.000000</td>\n",
       "    </tr>\n",
       "    <tr>\n",
       "      <th>50%</th>\n",
       "      <td>5.000000</td>\n",
       "      <td>496.000000</td>\n",
       "      <td>1.000000</td>\n",
       "      <td>22509.500000</td>\n",
       "      <td>10.000000</td>\n",
       "      <td>13.000000</td>\n",
       "      <td>19.000000</td>\n",
       "      <td>30.000000</td>\n",
       "      <td>14.000000</td>\n",
       "      <td>30.000000</td>\n",
       "      <td>14.000000</td>\n",
       "      <td>25.000000</td>\n",
       "    </tr>\n",
       "    <tr>\n",
       "      <th>75%</th>\n",
       "      <td>7.000000</td>\n",
       "      <td>582.000000</td>\n",
       "      <td>2.000000</td>\n",
       "      <td>32401.750000</td>\n",
       "      <td>16.000000</td>\n",
       "      <td>22.000000</td>\n",
       "      <td>21.000000</td>\n",
       "      <td>40.000000</td>\n",
       "      <td>19.000000</td>\n",
       "      <td>45.000000</td>\n",
       "      <td>20.000000</td>\n",
       "      <td>40.000000</td>\n",
       "    </tr>\n",
       "    <tr>\n",
       "      <th>max</th>\n",
       "      <td>7.000000</td>\n",
       "      <td>628.000000</td>\n",
       "      <td>3.000000</td>\n",
       "      <td>69468.000000</td>\n",
       "      <td>28.000000</td>\n",
       "      <td>28.000000</td>\n",
       "      <td>23.000000</td>\n",
       "      <td>55.000000</td>\n",
       "      <td>23.000000</td>\n",
       "      <td>55.000000</td>\n",
       "      <td>30.000000</td>\n",
       "      <td>55.000000</td>\n",
       "    </tr>\n",
       "  </tbody>\n",
       "</table>\n",
       "</div>"
      ],
      "text/plain": [
       "       flight_name    flight_id        stops          fare       source  \\\n",
       "count  4322.000000  4322.000000  4322.000000   4322.000000  4322.000000   \n",
       "mean      5.321379   417.555761     1.184637  23771.051365    11.453031   \n",
       "std       2.103468   192.923345     0.567307  12325.618377     6.355491   \n",
       "min       0.000000     0.000000     0.000000   2596.000000     0.000000   \n",
       "25%       5.000000   266.000000     1.000000  13410.000000     8.000000   \n",
       "50%       5.000000   496.000000     1.000000  22509.500000    10.000000   \n",
       "75%       7.000000   582.000000     2.000000  32401.750000    16.000000   \n",
       "max       7.000000   628.000000     3.000000  69468.000000    28.000000   \n",
       "\n",
       "       destination     dep_hour   dep_minute     arr_hour   arr_minute  \\\n",
       "count  4322.000000  4322.000000  4322.000000  4322.000000  4322.000000   \n",
       "mean     13.341509    18.733457    26.817446    13.470153    29.211013   \n",
       "std       8.432614     2.486852    16.625801     6.321786    17.027820   \n",
       "min       0.000000    13.000000     0.000000     0.000000     0.000000   \n",
       "25%       6.000000    17.000000    15.000000     8.000000    15.000000   \n",
       "50%      13.000000    19.000000    30.000000    14.000000    30.000000   \n",
       "75%      22.000000    21.000000    40.000000    19.000000    45.000000   \n",
       "max      28.000000    23.000000    55.000000    23.000000    55.000000   \n",
       "\n",
       "       travel_hours  travel_minutes  \n",
       "count   4322.000000     4322.000000  \n",
       "mean      13.689727       26.673994  \n",
       "std        7.500041       17.090930  \n",
       "min        0.000000        0.000000  \n",
       "25%        7.000000       10.000000  \n",
       "50%       14.000000       25.000000  \n",
       "75%       20.000000       40.000000  \n",
       "max       30.000000       55.000000  "
      ]
     },
     "execution_count": 64,
     "metadata": {},
     "output_type": "execute_result"
    }
   ],
   "source": [
    "df.describe()"
   ]
  },
  {
   "cell_type": "markdown",
   "id": "aabb6fbe",
   "metadata": {},
   "source": [
    "# Correlation\n"
   ]
  },
  {
   "cell_type": "code",
   "execution_count": 65,
   "id": "05bada10",
   "metadata": {},
   "outputs": [
    {
     "data": {
      "text/html": [
       "<div>\n",
       "<style scoped>\n",
       "    .dataframe tbody tr th:only-of-type {\n",
       "        vertical-align: middle;\n",
       "    }\n",
       "\n",
       "    .dataframe tbody tr th {\n",
       "        vertical-align: top;\n",
       "    }\n",
       "\n",
       "    .dataframe thead th {\n",
       "        text-align: right;\n",
       "    }\n",
       "</style>\n",
       "<table border=\"1\" class=\"dataframe\">\n",
       "  <thead>\n",
       "    <tr style=\"text-align: right;\">\n",
       "      <th></th>\n",
       "      <th>flight_name</th>\n",
       "      <th>flight_id</th>\n",
       "      <th>stops</th>\n",
       "      <th>fare</th>\n",
       "      <th>source</th>\n",
       "      <th>destination</th>\n",
       "      <th>dep_hour</th>\n",
       "      <th>dep_minute</th>\n",
       "      <th>arr_hour</th>\n",
       "      <th>arr_minute</th>\n",
       "      <th>travel_hours</th>\n",
       "      <th>travel_minutes</th>\n",
       "    </tr>\n",
       "  </thead>\n",
       "  <tbody>\n",
       "    <tr>\n",
       "      <th>flight_name</th>\n",
       "      <td>1.000000</td>\n",
       "      <td>0.371816</td>\n",
       "      <td>0.179497</td>\n",
       "      <td>0.304683</td>\n",
       "      <td>-0.103544</td>\n",
       "      <td>-0.056577</td>\n",
       "      <td>-0.003043</td>\n",
       "      <td>0.125439</td>\n",
       "      <td>0.176037</td>\n",
       "      <td>0.145482</td>\n",
       "      <td>0.272134</td>\n",
       "      <td>0.004730</td>\n",
       "    </tr>\n",
       "    <tr>\n",
       "      <th>flight_id</th>\n",
       "      <td>0.371816</td>\n",
       "      <td>1.000000</td>\n",
       "      <td>0.397075</td>\n",
       "      <td>0.496382</td>\n",
       "      <td>-0.032669</td>\n",
       "      <td>-0.079129</td>\n",
       "      <td>-0.051437</td>\n",
       "      <td>0.080759</td>\n",
       "      <td>0.230666</td>\n",
       "      <td>0.116502</td>\n",
       "      <td>0.656321</td>\n",
       "      <td>-0.013644</td>\n",
       "    </tr>\n",
       "    <tr>\n",
       "      <th>stops</th>\n",
       "      <td>0.179497</td>\n",
       "      <td>0.397075</td>\n",
       "      <td>1.000000</td>\n",
       "      <td>0.560584</td>\n",
       "      <td>0.226997</td>\n",
       "      <td>-0.006024</td>\n",
       "      <td>0.019472</td>\n",
       "      <td>-0.027734</td>\n",
       "      <td>0.012765</td>\n",
       "      <td>0.057488</td>\n",
       "      <td>0.624723</td>\n",
       "      <td>0.018478</td>\n",
       "    </tr>\n",
       "    <tr>\n",
       "      <th>fare</th>\n",
       "      <td>0.304683</td>\n",
       "      <td>0.496382</td>\n",
       "      <td>0.560584</td>\n",
       "      <td>1.000000</td>\n",
       "      <td>-0.092742</td>\n",
       "      <td>-0.011005</td>\n",
       "      <td>0.025644</td>\n",
       "      <td>0.047696</td>\n",
       "      <td>0.111718</td>\n",
       "      <td>0.126919</td>\n",
       "      <td>0.542427</td>\n",
       "      <td>0.011059</td>\n",
       "    </tr>\n",
       "    <tr>\n",
       "      <th>source</th>\n",
       "      <td>-0.103544</td>\n",
       "      <td>-0.032669</td>\n",
       "      <td>0.226997</td>\n",
       "      <td>-0.092742</td>\n",
       "      <td>1.000000</td>\n",
       "      <td>0.001876</td>\n",
       "      <td>-0.045555</td>\n",
       "      <td>-0.042739</td>\n",
       "      <td>-0.000084</td>\n",
       "      <td>-0.031158</td>\n",
       "      <td>0.108535</td>\n",
       "      <td>0.008442</td>\n",
       "    </tr>\n",
       "    <tr>\n",
       "      <th>destination</th>\n",
       "      <td>-0.056577</td>\n",
       "      <td>-0.079129</td>\n",
       "      <td>-0.006024</td>\n",
       "      <td>-0.011005</td>\n",
       "      <td>0.001876</td>\n",
       "      <td>1.000000</td>\n",
       "      <td>0.042868</td>\n",
       "      <td>-0.010891</td>\n",
       "      <td>-0.071322</td>\n",
       "      <td>-0.095980</td>\n",
       "      <td>-0.022142</td>\n",
       "      <td>-0.019736</td>\n",
       "    </tr>\n",
       "    <tr>\n",
       "      <th>dep_hour</th>\n",
       "      <td>-0.003043</td>\n",
       "      <td>-0.051437</td>\n",
       "      <td>0.019472</td>\n",
       "      <td>0.025644</td>\n",
       "      <td>-0.045555</td>\n",
       "      <td>0.042868</td>\n",
       "      <td>1.000000</td>\n",
       "      <td>-0.102467</td>\n",
       "      <td>-0.276680</td>\n",
       "      <td>0.005990</td>\n",
       "      <td>-0.015056</td>\n",
       "      <td>-0.003085</td>\n",
       "    </tr>\n",
       "    <tr>\n",
       "      <th>dep_minute</th>\n",
       "      <td>0.125439</td>\n",
       "      <td>0.080759</td>\n",
       "      <td>-0.027734</td>\n",
       "      <td>0.047696</td>\n",
       "      <td>-0.042739</td>\n",
       "      <td>-0.010891</td>\n",
       "      <td>-0.102467</td>\n",
       "      <td>1.000000</td>\n",
       "      <td>-0.009783</td>\n",
       "      <td>0.022622</td>\n",
       "      <td>0.025338</td>\n",
       "      <td>-0.008266</td>\n",
       "    </tr>\n",
       "    <tr>\n",
       "      <th>arr_hour</th>\n",
       "      <td>0.176037</td>\n",
       "      <td>0.230666</td>\n",
       "      <td>0.012765</td>\n",
       "      <td>0.111718</td>\n",
       "      <td>-0.000084</td>\n",
       "      <td>-0.071322</td>\n",
       "      <td>-0.276680</td>\n",
       "      <td>-0.009783</td>\n",
       "      <td>1.000000</td>\n",
       "      <td>-0.027716</td>\n",
       "      <td>0.200061</td>\n",
       "      <td>-0.009653</td>\n",
       "    </tr>\n",
       "    <tr>\n",
       "      <th>arr_minute</th>\n",
       "      <td>0.145482</td>\n",
       "      <td>0.116502</td>\n",
       "      <td>0.057488</td>\n",
       "      <td>0.126919</td>\n",
       "      <td>-0.031158</td>\n",
       "      <td>-0.095980</td>\n",
       "      <td>0.005990</td>\n",
       "      <td>0.022622</td>\n",
       "      <td>-0.027716</td>\n",
       "      <td>1.000000</td>\n",
       "      <td>0.072335</td>\n",
       "      <td>-0.045580</td>\n",
       "    </tr>\n",
       "    <tr>\n",
       "      <th>travel_hours</th>\n",
       "      <td>0.272134</td>\n",
       "      <td>0.656321</td>\n",
       "      <td>0.624723</td>\n",
       "      <td>0.542427</td>\n",
       "      <td>0.108535</td>\n",
       "      <td>-0.022142</td>\n",
       "      <td>-0.015056</td>\n",
       "      <td>0.025338</td>\n",
       "      <td>0.200061</td>\n",
       "      <td>0.072335</td>\n",
       "      <td>1.000000</td>\n",
       "      <td>-0.047403</td>\n",
       "    </tr>\n",
       "    <tr>\n",
       "      <th>travel_minutes</th>\n",
       "      <td>0.004730</td>\n",
       "      <td>-0.013644</td>\n",
       "      <td>0.018478</td>\n",
       "      <td>0.011059</td>\n",
       "      <td>0.008442</td>\n",
       "      <td>-0.019736</td>\n",
       "      <td>-0.003085</td>\n",
       "      <td>-0.008266</td>\n",
       "      <td>-0.009653</td>\n",
       "      <td>-0.045580</td>\n",
       "      <td>-0.047403</td>\n",
       "      <td>1.000000</td>\n",
       "    </tr>\n",
       "  </tbody>\n",
       "</table>\n",
       "</div>"
      ],
      "text/plain": [
       "                flight_name  flight_id     stops      fare    source  \\\n",
       "flight_name        1.000000   0.371816  0.179497  0.304683 -0.103544   \n",
       "flight_id          0.371816   1.000000  0.397075  0.496382 -0.032669   \n",
       "stops              0.179497   0.397075  1.000000  0.560584  0.226997   \n",
       "fare               0.304683   0.496382  0.560584  1.000000 -0.092742   \n",
       "source            -0.103544  -0.032669  0.226997 -0.092742  1.000000   \n",
       "destination       -0.056577  -0.079129 -0.006024 -0.011005  0.001876   \n",
       "dep_hour          -0.003043  -0.051437  0.019472  0.025644 -0.045555   \n",
       "dep_minute         0.125439   0.080759 -0.027734  0.047696 -0.042739   \n",
       "arr_hour           0.176037   0.230666  0.012765  0.111718 -0.000084   \n",
       "arr_minute         0.145482   0.116502  0.057488  0.126919 -0.031158   \n",
       "travel_hours       0.272134   0.656321  0.624723  0.542427  0.108535   \n",
       "travel_minutes     0.004730  -0.013644  0.018478  0.011059  0.008442   \n",
       "\n",
       "                destination  dep_hour  dep_minute  arr_hour  arr_minute  \\\n",
       "flight_name       -0.056577 -0.003043    0.125439  0.176037    0.145482   \n",
       "flight_id         -0.079129 -0.051437    0.080759  0.230666    0.116502   \n",
       "stops             -0.006024  0.019472   -0.027734  0.012765    0.057488   \n",
       "fare              -0.011005  0.025644    0.047696  0.111718    0.126919   \n",
       "source             0.001876 -0.045555   -0.042739 -0.000084   -0.031158   \n",
       "destination        1.000000  0.042868   -0.010891 -0.071322   -0.095980   \n",
       "dep_hour           0.042868  1.000000   -0.102467 -0.276680    0.005990   \n",
       "dep_minute        -0.010891 -0.102467    1.000000 -0.009783    0.022622   \n",
       "arr_hour          -0.071322 -0.276680   -0.009783  1.000000   -0.027716   \n",
       "arr_minute        -0.095980  0.005990    0.022622 -0.027716    1.000000   \n",
       "travel_hours      -0.022142 -0.015056    0.025338  0.200061    0.072335   \n",
       "travel_minutes    -0.019736 -0.003085   -0.008266 -0.009653   -0.045580   \n",
       "\n",
       "                travel_hours  travel_minutes  \n",
       "flight_name         0.272134        0.004730  \n",
       "flight_id           0.656321       -0.013644  \n",
       "stops               0.624723        0.018478  \n",
       "fare                0.542427        0.011059  \n",
       "source              0.108535        0.008442  \n",
       "destination        -0.022142       -0.019736  \n",
       "dep_hour           -0.015056       -0.003085  \n",
       "dep_minute          0.025338       -0.008266  \n",
       "arr_hour            0.200061       -0.009653  \n",
       "arr_minute          0.072335       -0.045580  \n",
       "travel_hours        1.000000       -0.047403  \n",
       "travel_minutes     -0.047403        1.000000  "
      ]
     },
     "execution_count": 65,
     "metadata": {},
     "output_type": "execute_result"
    }
   ],
   "source": [
    "df.corr()\n"
   ]
  },
  {
   "cell_type": "code",
   "execution_count": 66,
   "id": "71a9d3a2",
   "metadata": {},
   "outputs": [
    {
     "data": {
      "text/plain": [
       "<AxesSubplot:>"
      ]
     },
     "execution_count": 66,
     "metadata": {},
     "output_type": "execute_result"
    },
    {
     "data": {
      "image/png": "[encoded data removed]",
      "text/plain": [
       "<Figure size 576x576 with 2 Axes>"
      ]
     },
     "metadata": {
      "needs_background": "light"
     },
     "output_type": "display_data"
    }
   ],
   "source": [
    "plt.figure(figsize = (8,8))\n",
    "sns.heatmap(df.corr(),cmap = 'RdYlGn',annot = True)"
   ]
  },
  {
   "cell_type": "code",
   "execution_count": 67,
   "id": "ce20476c",
   "metadata": {},
   "outputs": [
    {
     "data": {
      "image/png": "[encoded data removed]",
      "text/plain": [
       "<Figure size 576x576 with 1 Axes>"
      ]
     },
     "metadata": {
      "needs_background": "light"
     },
     "output_type": "display_data"
    },
    {
     "name": "stdout",
     "output_type": "stream",
     "text": [
      "KEY OBSERVATIONS:\n",
      " \n"
     ]
    },
    {
     "data": {
      "text/html": [
       "<div>\n",
       "<style scoped>\n",
       "    .dataframe tbody tr th:only-of-type {\n",
       "        vertical-align: middle;\n",
       "    }\n",
       "\n",
       "    .dataframe tbody tr th {\n",
       "        vertical-align: top;\n",
       "    }\n",
       "\n",
       "    .dataframe thead th {\n",
       "        text-align: right;\n",
       "    }\n",
       "</style>\n",
       "<table border=\"1\" class=\"dataframe\">\n",
       "  <thead>\n",
       "    <tr style=\"text-align: right;\">\n",
       "      <th></th>\n",
       "      <th>fare</th>\n",
       "    </tr>\n",
       "  </thead>\n",
       "  <tbody>\n",
       "    <tr>\n",
       "      <th>stops</th>\n",
       "      <td>0.560584</td>\n",
       "    </tr>\n",
       "    <tr>\n",
       "      <th>travel_hours</th>\n",
       "      <td>0.542427</td>\n",
       "    </tr>\n",
       "    <tr>\n",
       "      <th>flight_id</th>\n",
       "      <td>0.496382</td>\n",
       "    </tr>\n",
       "    <tr>\n",
       "      <th>flight_name</th>\n",
       "      <td>0.304683</td>\n",
       "    </tr>\n",
       "    <tr>\n",
       "      <th>arr_minute</th>\n",
       "      <td>0.126919</td>\n",
       "    </tr>\n",
       "    <tr>\n",
       "      <th>arr_hour</th>\n",
       "      <td>0.111718</td>\n",
       "    </tr>\n",
       "    <tr>\n",
       "      <th>dep_minute</th>\n",
       "      <td>0.047696</td>\n",
       "    </tr>\n",
       "    <tr>\n",
       "      <th>dep_hour</th>\n",
       "      <td>0.025644</td>\n",
       "    </tr>\n",
       "    <tr>\n",
       "      <th>travel_minutes</th>\n",
       "      <td>0.011059</td>\n",
       "    </tr>\n",
       "    <tr>\n",
       "      <th>destination</th>\n",
       "      <td>-0.011005</td>\n",
       "    </tr>\n",
       "    <tr>\n",
       "      <th>source</th>\n",
       "      <td>-0.092742</td>\n",
       "    </tr>\n",
       "  </tbody>\n",
       "</table>\n",
       "</div>"
      ],
      "text/plain": [
       "                    fare\n",
       "stops           0.560584\n",
       "travel_hours    0.542427\n",
       "flight_id       0.496382\n",
       "flight_name     0.304683\n",
       "arr_minute      0.126919\n",
       "arr_hour        0.111718\n",
       "dep_minute      0.047696\n",
       "dep_hour        0.025644\n",
       "travel_minutes  0.011059\n",
       "destination    -0.011005\n",
       "source         -0.092742"
      ]
     },
     "execution_count": 67,
     "metadata": {},
     "output_type": "execute_result"
    }
   ],
   "source": [
    "plt.figure(figsize=(8,8))\n",
    "df.corr()[\"fare\"].sort_values(ascending=False).drop([\"fare\"]).plot.bar()\n",
    "plt.xlabel(\"Feature\", fontsize= 14)\n",
    "plt.ylabel(\"correlation with Target column\", fontsize = 18)\n",
    "plt.title(\"Correlation of Fetures with the target column\", fontsize=25)\n",
    "plt.show()\n",
    "corr=pd.DataFrame(df.corr()[\"fare\"].sort_values(ascending=False)).drop([\"fare\"])\n",
    "print(\"KEY OBSERVATIONS:\\n \")\n",
    "corr"
   ]
  },
  {
   "cell_type": "markdown",
   "id": "537b2e85",
   "metadata": {},
   "source": [
    "# Outliers\n"
   ]
  },
  {
   "cell_type": "code",
   "execution_count": 68,
   "id": "798f1db4",
   "metadata": {},
   "outputs": [
    {
     "data": {
      "image/png": "[encoded data removed]",
      "text/plain": [
       "<Figure size 1080x1080 with 7 Axes>"
      ]
     },
     "metadata": {
      "needs_background": "light"
     },
     "output_type": "display_data"
    }
   ],
   "source": [
    "numerical_cols = ['travel_hours','travel_minutes','dep_hour','dep_minute','stops','arr_hour','arr_minute']\n",
    "plt.figure(figsize=(15,15))\n",
    "graph = 1\n",
    "for i in numerical_cols:\n",
    "    if graph <= 8:\n",
    "        plt.subplot(4,2,graph)\n",
    "        sns.boxplot(df[i])\n",
    "        plt.xlabel(i)\n",
    "        graph += 1\n",
    "        \n",
    "plt.show() "
   ]
  },
  {
   "cell_type": "markdown",
   "id": "211eacd5",
   "metadata": {},
   "source": [
    "# There is not any outliers present in our dataset.\n",
    "\n"
   ]
  },
  {
   "cell_type": "markdown",
   "id": "062de75e",
   "metadata": {},
   "source": [
    "# Skewness\n"
   ]
  },
  {
   "cell_type": "code",
   "execution_count": 69,
   "id": "9db6d83d",
   "metadata": {},
   "outputs": [
    {
     "data": {
      "text/plain": [
       "flight_name      -1.288397\n",
       "flight_id        -0.710843\n",
       "stops             0.099541\n",
       "fare              0.597260\n",
       "source            0.237293\n",
       "destination       0.124255\n",
       "dep_hour         -0.255169\n",
       "dep_minute        0.006092\n",
       "arr_hour         -0.243895\n",
       "arr_minute       -0.097142\n",
       "travel_hours      0.027684\n",
       "travel_minutes    0.085907\n",
       "dtype: float64"
      ]
     },
     "execution_count": 69,
     "metadata": {},
     "output_type": "execute_result"
    }
   ],
   "source": [
    "df.skew(\n",
    ")"
   ]
  },
  {
   "cell_type": "markdown",
   "id": "e1156dae",
   "metadata": {},
   "source": [
    "All values are in +/- 0.5 range. Data are almost normally distributed for each column's data.\n",
    "\n"
   ]
  },
  {
   "cell_type": "markdown",
   "id": "7810ea33",
   "metadata": {},
   "source": [
    "# Separating Features and Target\n"
   ]
  },
  {
   "cell_type": "code",
   "execution_count": 70,
   "id": "803cfd4a",
   "metadata": {},
   "outputs": [],
   "source": [
    "y = df['fare']\n",
    "x = df.drop('fare',axis =1)"
   ]
  },
  {
   "cell_type": "code",
   "execution_count": 71,
   "id": "b1f9df69",
   "metadata": {},
   "outputs": [
    {
     "data": {
      "text/plain": [
       "(4322, 11)"
      ]
     },
     "execution_count": 71,
     "metadata": {},
     "output_type": "execute_result"
    }
   ],
   "source": [
    "x.shape"
   ]
  },
  {
   "cell_type": "code",
   "execution_count": 72,
   "id": "c963a408",
   "metadata": {},
   "outputs": [
    {
     "data": {
      "text/plain": [
       "(4322,)"
      ]
     },
     "execution_count": 72,
     "metadata": {},
     "output_type": "execute_result"
    }
   ],
   "source": [
    "y.shape"
   ]
  },
  {
   "cell_type": "markdown",
   "id": "acd2c353",
   "metadata": {},
   "source": [
    "# Standardization"
   ]
  },
  {
   "cell_type": "code",
   "execution_count": 73,
   "id": "ab0e0e98",
   "metadata": {},
   "outputs": [
    {
     "data": {
      "text/html": [
       "<div>\n",
       "<style scoped>\n",
       "    .dataframe tbody tr th:only-of-type {\n",
       "        vertical-align: middle;\n",
       "    }\n",
       "\n",
       "    .dataframe tbody tr th {\n",
       "        vertical-align: top;\n",
       "    }\n",
       "\n",
       "    .dataframe thead th {\n",
       "        text-align: right;\n",
       "    }\n",
       "</style>\n",
       "<table border=\"1\" class=\"dataframe\">\n",
       "  <thead>\n",
       "    <tr style=\"text-align: right;\">\n",
       "      <th></th>\n",
       "      <th>flight_name</th>\n",
       "      <th>flight_id</th>\n",
       "      <th>stops</th>\n",
       "      <th>source</th>\n",
       "      <th>destination</th>\n",
       "      <th>dep_hour</th>\n",
       "      <th>dep_minute</th>\n",
       "      <th>arr_hour</th>\n",
       "      <th>arr_minute</th>\n",
       "      <th>travel_hours</th>\n",
       "      <th>travel_minutes</th>\n",
       "    </tr>\n",
       "  </thead>\n",
       "  <tbody>\n",
       "    <tr>\n",
       "      <th>0</th>\n",
       "      <td>-0.628263</td>\n",
       "      <td>0.209663</td>\n",
       "      <td>-0.325499</td>\n",
       "      <td>-0.543377</td>\n",
       "      <td>0.671102</td>\n",
       "      <td>0.107193</td>\n",
       "      <td>-0.710872</td>\n",
       "      <td>-2.130998</td>\n",
       "      <td>-0.541002</td>\n",
       "      <td>-1.158758</td>\n",
       "      <td>-1.268304</td>\n",
       "    </tr>\n",
       "    <tr>\n",
       "      <th>1</th>\n",
       "      <td>-0.628263</td>\n",
       "      <td>0.209663</td>\n",
       "      <td>-0.325499</td>\n",
       "      <td>-0.543377</td>\n",
       "      <td>0.671102</td>\n",
       "      <td>0.107193</td>\n",
       "      <td>-0.710872</td>\n",
       "      <td>-0.707185</td>\n",
       "      <td>-1.422015</td>\n",
       "      <td>-0.091974</td>\n",
       "      <td>1.364976</td>\n",
       "    </tr>\n",
       "    <tr>\n",
       "      <th>2</th>\n",
       "      <td>-0.628263</td>\n",
       "      <td>0.157823</td>\n",
       "      <td>-2.088417</td>\n",
       "      <td>-0.543377</td>\n",
       "      <td>0.671102</td>\n",
       "      <td>-1.501452</td>\n",
       "      <td>-0.710872</td>\n",
       "      <td>0.558427</td>\n",
       "      <td>-0.541002</td>\n",
       "      <td>-1.558802</td>\n",
       "      <td>-1.268304</td>\n",
       "    </tr>\n",
       "    <tr>\n",
       "      <th>3</th>\n",
       "      <td>-0.628263</td>\n",
       "      <td>0.142271</td>\n",
       "      <td>-2.088417</td>\n",
       "      <td>-0.543377</td>\n",
       "      <td>0.671102</td>\n",
       "      <td>-0.294968</td>\n",
       "      <td>-0.410100</td>\n",
       "      <td>1.033031</td>\n",
       "      <td>0.340012</td>\n",
       "      <td>-1.558802</td>\n",
       "      <td>-0.683131</td>\n",
       "    </tr>\n",
       "    <tr>\n",
       "      <th>4</th>\n",
       "      <td>-0.628263</td>\n",
       "      <td>0.152639</td>\n",
       "      <td>-2.088417</td>\n",
       "      <td>-0.543377</td>\n",
       "      <td>0.671102</td>\n",
       "      <td>0.509355</td>\n",
       "      <td>1.394534</td>\n",
       "      <td>1.507636</td>\n",
       "      <td>-1.422015</td>\n",
       "      <td>-1.558802</td>\n",
       "      <td>-0.683131</td>\n",
       "    </tr>\n",
       "    <tr>\n",
       "      <th>...</th>\n",
       "      <td>...</td>\n",
       "      <td>...</td>\n",
       "      <td>...</td>\n",
       "      <td>...</td>\n",
       "      <td>...</td>\n",
       "      <td>...</td>\n",
       "      <td>...</td>\n",
       "      <td>...</td>\n",
       "      <td>...</td>\n",
       "      <td>...</td>\n",
       "      <td>...</td>\n",
       "    </tr>\n",
       "    <tr>\n",
       "      <th>4317</th>\n",
       "      <td>-0.152803</td>\n",
       "      <td>-0.417602</td>\n",
       "      <td>-0.325499</td>\n",
       "      <td>0.400797</td>\n",
       "      <td>-0.633508</td>\n",
       "      <td>0.509355</td>\n",
       "      <td>-1.312416</td>\n",
       "      <td>-1.023588</td>\n",
       "      <td>0.340012</td>\n",
       "      <td>-0.358670</td>\n",
       "      <td>0.194629</td>\n",
       "    </tr>\n",
       "    <tr>\n",
       "      <th>4318</th>\n",
       "      <td>-0.152803</td>\n",
       "      <td>-0.417602</td>\n",
       "      <td>-0.325499</td>\n",
       "      <td>0.400797</td>\n",
       "      <td>-0.633508</td>\n",
       "      <td>0.509355</td>\n",
       "      <td>-1.312416</td>\n",
       "      <td>-1.023588</td>\n",
       "      <td>0.340012</td>\n",
       "      <td>-0.358670</td>\n",
       "      <td>0.194629</td>\n",
       "    </tr>\n",
       "    <tr>\n",
       "      <th>4319</th>\n",
       "      <td>-0.152803</td>\n",
       "      <td>-1.832835</td>\n",
       "      <td>-0.325499</td>\n",
       "      <td>-0.700740</td>\n",
       "      <td>-0.633508</td>\n",
       "      <td>0.911516</td>\n",
       "      <td>0.792989</td>\n",
       "      <td>-1.181789</td>\n",
       "      <td>0.927354</td>\n",
       "      <td>-0.625366</td>\n",
       "      <td>-1.268304</td>\n",
       "    </tr>\n",
       "    <tr>\n",
       "      <th>4320</th>\n",
       "      <td>-0.152803</td>\n",
       "      <td>-0.417602</td>\n",
       "      <td>-0.325499</td>\n",
       "      <td>-0.700740</td>\n",
       "      <td>-0.633508</td>\n",
       "      <td>0.509355</td>\n",
       "      <td>-1.312416</td>\n",
       "      <td>-1.023588</td>\n",
       "      <td>0.340012</td>\n",
       "      <td>-0.358670</td>\n",
       "      <td>0.194629</td>\n",
       "    </tr>\n",
       "    <tr>\n",
       "      <th>4321</th>\n",
       "      <td>-0.152803</td>\n",
       "      <td>-0.417602</td>\n",
       "      <td>-0.325499</td>\n",
       "      <td>-0.700740</td>\n",
       "      <td>-0.633508</td>\n",
       "      <td>0.509355</td>\n",
       "      <td>-1.312416</td>\n",
       "      <td>-1.023588</td>\n",
       "      <td>0.340012</td>\n",
       "      <td>-0.358670</td>\n",
       "      <td>0.194629</td>\n",
       "    </tr>\n",
       "  </tbody>\n",
       "</table>\n",
       "<p>4322 rows × 11 columns</p>\n",
       "</div>"
      ],
      "text/plain": [
       "      flight_name  flight_id     stops    source  destination  dep_hour  \\\n",
       "0       -0.628263   0.209663 -0.325499 -0.543377     0.671102  0.107193   \n",
       "1       -0.628263   0.209663 -0.325499 -0.543377     0.671102  0.107193   \n",
       "2       -0.628263   0.157823 -2.088417 -0.543377     0.671102 -1.501452   \n",
       "3       -0.628263   0.142271 -2.088417 -0.543377     0.671102 -0.294968   \n",
       "4       -0.628263   0.152639 -2.088417 -0.543377     0.671102  0.509355   \n",
       "...           ...        ...       ...       ...          ...       ...   \n",
       "4317    -0.152803  -0.417602 -0.325499  0.400797    -0.633508  0.509355   \n",
       "4318    -0.152803  -0.417602 -0.325499  0.400797    -0.633508  0.509355   \n",
       "4319    -0.152803  -1.832835 -0.325499 -0.700740    -0.633508  0.911516   \n",
       "4320    -0.152803  -0.417602 -0.325499 -0.700740    -0.633508  0.509355   \n",
       "4321    -0.152803  -0.417602 -0.325499 -0.700740    -0.633508  0.509355   \n",
       "\n",
       "      dep_minute  arr_hour  arr_minute  travel_hours  travel_minutes  \n",
       "0      -0.710872 -2.130998   -0.541002     -1.158758       -1.268304  \n",
       "1      -0.710872 -0.707185   -1.422015     -0.091974        1.364976  \n",
       "2      -0.710872  0.558427   -0.541002     -1.558802       -1.268304  \n",
       "3      -0.410100  1.033031    0.340012     -1.558802       -0.683131  \n",
       "4       1.394534  1.507636   -1.422015     -1.558802       -0.683131  \n",
       "...          ...       ...         ...           ...             ...  \n",
       "4317   -1.312416 -1.023588    0.340012     -0.358670        0.194629  \n",
       "4318   -1.312416 -1.023588    0.340012     -0.358670        0.194629  \n",
       "4319    0.792989 -1.181789    0.927354     -0.625366       -1.268304  \n",
       "4320   -1.312416 -1.023588    0.340012     -0.358670        0.194629  \n",
       "4321   -1.312416 -1.023588    0.340012     -0.358670        0.194629  \n",
       "\n",
       "[4322 rows x 11 columns]"
      ]
     },
     "execution_count": 73,
     "metadata": {},
     "output_type": "execute_result"
    }
   ],
   "source": [
    "from sklearn.preprocessing import StandardScaler\n",
    "scaler = StandardScaler()\n",
    "x =pd.DataFrame(scaler.fit_transform(x),columns=x.columns)\n",
    "x"
   ]
  },
  {
   "cell_type": "markdown",
   "id": "958c1b3f",
   "metadata": {},
   "source": [
    "# Checking for Multicollinearity Problem using VIF:-\n"
   ]
  },
  {
   "cell_type": "code",
   "execution_count": 74,
   "id": "58a16047",
   "metadata": {},
   "outputs": [
    {
     "data": {
      "text/html": [
       "<div>\n",
       "<style scoped>\n",
       "    .dataframe tbody tr th:only-of-type {\n",
       "        vertical-align: middle;\n",
       "    }\n",
       "\n",
       "    .dataframe tbody tr th {\n",
       "        vertical-align: top;\n",
       "    }\n",
       "\n",
       "    .dataframe thead th {\n",
       "        text-align: right;\n",
       "    }\n",
       "</style>\n",
       "<table border=\"1\" class=\"dataframe\">\n",
       "  <thead>\n",
       "    <tr style=\"text-align: right;\">\n",
       "      <th></th>\n",
       "      <th>VIF values</th>\n",
       "      <th>Features</th>\n",
       "    </tr>\n",
       "  </thead>\n",
       "  <tbody>\n",
       "    <tr>\n",
       "      <th>0</th>\n",
       "      <td>1.225123</td>\n",
       "      <td>flight_name</td>\n",
       "    </tr>\n",
       "    <tr>\n",
       "      <th>1</th>\n",
       "      <td>1.958121</td>\n",
       "      <td>flight_id</td>\n",
       "    </tr>\n",
       "    <tr>\n",
       "      <th>2</th>\n",
       "      <td>1.768616</td>\n",
       "      <td>stops</td>\n",
       "    </tr>\n",
       "    <tr>\n",
       "      <th>3</th>\n",
       "      <td>1.095825</td>\n",
       "      <td>source</td>\n",
       "    </tr>\n",
       "    <tr>\n",
       "      <th>4</th>\n",
       "      <td>1.021151</td>\n",
       "      <td>destination</td>\n",
       "    </tr>\n",
       "    <tr>\n",
       "      <th>5</th>\n",
       "      <td>1.106067</td>\n",
       "      <td>dep_hour</td>\n",
       "    </tr>\n",
       "    <tr>\n",
       "      <th>6</th>\n",
       "      <td>1.038862</td>\n",
       "      <td>dep_minute</td>\n",
       "    </tr>\n",
       "    <tr>\n",
       "      <th>7</th>\n",
       "      <td>1.200927</td>\n",
       "      <td>arr_hour</td>\n",
       "    </tr>\n",
       "    <tr>\n",
       "      <th>8</th>\n",
       "      <td>1.042304</td>\n",
       "      <td>arr_minute</td>\n",
       "    </tr>\n",
       "    <tr>\n",
       "      <th>9</th>\n",
       "      <td>2.498099</td>\n",
       "      <td>travel_hours</td>\n",
       "    </tr>\n",
       "    <tr>\n",
       "      <th>10</th>\n",
       "      <td>1.009717</td>\n",
       "      <td>travel_minutes</td>\n",
       "    </tr>\n",
       "  </tbody>\n",
       "</table>\n",
       "</div>"
      ],
      "text/plain": [
       "    VIF values        Features\n",
       "0     1.225123     flight_name\n",
       "1     1.958121       flight_id\n",
       "2     1.768616           stops\n",
       "3     1.095825          source\n",
       "4     1.021151     destination\n",
       "5     1.106067        dep_hour\n",
       "6     1.038862      dep_minute\n",
       "7     1.200927        arr_hour\n",
       "8     1.042304      arr_minute\n",
       "9     2.498099    travel_hours\n",
       "10    1.009717  travel_minutes"
      ]
     },
     "execution_count": 74,
     "metadata": {},
     "output_type": "execute_result"
    }
   ],
   "source": [
    "# Checking for Multicollinearity Problem using VIF:- \n",
    "from statsmodels.stats.outliers_influence import variance_inflation_factor\n",
    "vif = pd.DataFrame()\n",
    "vif['VIF values']= [variance_inflation_factor(x.values,i) for i in range(len(x.columns))]\n",
    "vif['Features'] = x.columns\n",
    "vif\n",
    "# Checking for Multicollinearity Problem using VIF:- \n",
    "from statsmodels.stats.outliers_influence import variance_inflation_factor\n",
    "vif = pd.DataFrame()\n",
    "vif['VIF values']= [variance_inflation_factor(x.values,i) for i in range(len(x.columns))]\n",
    "vif['Features'] = x.columns\n",
    "vif"
   ]
  },
  {
   "cell_type": "markdown",
   "id": "bab2ae7e",
   "metadata": {},
   "source": [
    "# All values are less than 5, So now proceed to model building part.\n",
    "\n"
   ]
  },
  {
   "cell_type": "markdown",
   "id": "25646da5",
   "metadata": {},
   "source": [
    "# Building the model\n"
   ]
  },
  {
   "cell_type": "code",
   "execution_count": 75,
   "id": "22e01fc5",
   "metadata": {},
   "outputs": [],
   "source": [
    "from sklearn.model_selection import train_test_split\n",
    "from sklearn.linear_model import LinearRegression,Lasso,Ridge\n",
    "from sklearn.metrics import r2_score\n",
    "from sklearn.svm import SVR\n",
    "from sklearn.neighbors import KNeighborsRegressor\n",
    "from sklearn.tree import DecisionTreeRegressor\n",
    "from sklearn.ensemble import RandomForestRegressor\n",
    "from sklearn.ensemble import AdaBoostRegressor,GradientBoostingRegressor\n",
    "from sklearn.metrics import mean_absolute_error,mean_squared_error\n",
    "from sklearn.model_selection import cross_val_score"
   ]
  },
  {
   "cell_type": "markdown",
   "id": "09ccc902",
   "metadata": {},
   "source": [
    "# Finding the best random state\n"
   ]
  },
  {
   "cell_type": "code",
   "execution_count": 76,
   "id": "d6f1a80e",
   "metadata": {},
   "outputs": [
    {
     "name": "stdout",
     "output_type": "stream",
     "text": [
      "max r2 score corresponding to 56 is 0.8474228131709626\n"
     ]
    }
   ],
   "source": [
    "max_r2_score=0\n",
    "for r_state in range(1,200):\n",
    "    x_train,x_test,y_train,y_test=train_test_split(x,y,random_state=r_state,test_size=0.30)\n",
    "    rf=RandomForestRegressor()\n",
    "    rf.fit(x_train,y_train)\n",
    "    y_pred=rf.predict(x_test)\n",
    "    score=r2_score(y_test,y_pred)\n",
    "    if score > max_r2_score:\n",
    "        max_r2_score = score\n",
    "        final_r_state = r_state\n",
    "print(\"max r2 score corresponding to\",final_r_state,\"is\",max_r2_score)"
   ]
  },
  {
   "cell_type": "code",
   "execution_count": 77,
   "id": "6e446ba3",
   "metadata": {},
   "outputs": [],
   "source": [
    "#Creating train_test_split using best random_state\n",
    "x_train,x_test,y_train,y_test=train_test_split(x,y,random_state=r_state,test_size=.30)"
   ]
  },
  {
   "cell_type": "code",
   "execution_count": 78,
   "id": "081728e2",
   "metadata": {},
   "outputs": [],
   "source": [
    "lr=LinearRegression()\n",
    "lasso=Lasso()\n",
    "ridge=Ridge()\n",
    "svr=SVR()\n",
    "dtr=DecisionTreeRegressor()\n",
    "knr=KNeighborsRegressor()\n",
    "rf = RandomForestRegressor()\n",
    "adb = AdaBoostRegressor()\n",
    "gbr =GradientBoostingRegressor()"
   ]
  },
  {
   "cell_type": "code",
   "execution_count": 79,
   "id": "cc7e7b35",
   "metadata": {},
   "outputs": [],
   "source": [
    "models= []\n",
    "models.append(('Linear Regression',lr))\n",
    "models.append(('Lasso Regression',lasso))\n",
    "models.append(('Random Forest Regression',rf))\n",
    "models.append(('Ridge Regression',ridge))\n",
    "models.append(('Support Vector Regressor',svr))\n",
    "models.append(('Decision Tree Regressor',dtr))\n",
    "models.append(('KNeighbors Regressor',knr))\n",
    "models.append(('AdaBoost Regressor',adb))\n",
    "models.append(('GradientBoostingRegressor',gbr))"
   ]
  },
  {
   "cell_type": "markdown",
   "id": "71f81023",
   "metadata": {},
   "source": [
    "# Scores,Cross Validation of Models\n"
   ]
  },
  {
   "cell_type": "code",
   "execution_count": 80,
   "id": "d71f7446",
   "metadata": {},
   "outputs": [
    {
     "name": "stdout",
     "output_type": "stream",
     "text": [
      "\n",
      "\n",
      "LinearRegression()\n",
      "\n",
      "\n",
      "r2_score:  0.48136484009045477\n",
      "\n",
      "\n",
      "cross_val_score:  0.39007020658747443\n",
      "\n",
      "\n",
      "Standard Deviation:  0.02801794328033206\n",
      "\n",
      "\n",
      "Mean Absolute Error:  7310.629251824528\n",
      "\n",
      "\n",
      "Mean Squared Error:  81764501.94175363\n",
      "\n",
      "\n",
      "Root Mean Squared Error:  9042.372583661527\n",
      "\n",
      "\n",
      "\n",
      "\n",
      "\n",
      "Lasso()\n",
      "\n",
      "\n",
      "r2_score:  0.48135142245224405\n",
      "\n",
      "\n",
      "cross_val_score:  0.3900973253978601\n",
      "\n",
      "\n",
      "Standard Deviation:  0.02798570528852533\n",
      "\n",
      "\n",
      "Mean Absolute Error:  7310.7557885452115\n",
      "\n",
      "\n",
      "Mean Squared Error:  81766617.27559587\n",
      "\n",
      "\n",
      "Root Mean Squared Error:  9042.489550759563\n",
      "\n",
      "\n",
      "\n",
      "\n",
      "\n",
      "RandomForestRegressor()\n",
      "\n",
      "\n",
      "r2_score:  0.8327244737431481\n",
      "\n",
      "\n",
      "cross_val_score:  0.4229787803196899\n",
      "\n",
      "\n",
      "Standard Deviation:  0.18010387659609153\n",
      "\n",
      "\n",
      "Mean Absolute Error:  3709.432230360854\n",
      "\n",
      "\n",
      "Mean Squared Error:  26371525.011573948\n",
      "\n",
      "\n",
      "Root Mean Squared Error:  5135.321315319417\n",
      "\n",
      "\n",
      "\n",
      "\n",
      "\n",
      "Ridge()\n",
      "\n",
      "\n",
      "r2_score:  0.48135636131944026\n",
      "\n",
      "\n",
      "cross_val_score:  0.3900840517237542\n",
      "\n",
      "\n",
      "Standard Deviation:  0.027978625818027104\n",
      "\n",
      "\n",
      "Mean Absolute Error:  7310.664411532872\n",
      "\n",
      "\n",
      "Mean Squared Error:  81765838.64728898\n",
      "\n",
      "\n",
      "Root Mean Squared Error:  9042.446496788853\n",
      "\n",
      "\n",
      "\n",
      "\n",
      "\n",
      "SVR()\n",
      "\n",
      "\n",
      "r2_score:  0.007685828405194717\n",
      "\n",
      "\n",
      "cross_val_score:  -0.009385028233052614\n",
      "\n",
      "\n",
      "Standard Deviation:  0.020366027089898747\n",
      "\n",
      "\n",
      "Mean Absolute Error:  10228.788517505089\n",
      "\n",
      "\n",
      "Mean Squared Error:  156441522.44584417\n",
      "\n",
      "\n",
      "Root Mean Squared Error:  12507.658551697203\n",
      "\n",
      "\n",
      "\n",
      "\n",
      "\n",
      "DecisionTreeRegressor()\n",
      "\n",
      "\n",
      "r2_score:  0.6643618700814882\n",
      "\n",
      "\n",
      "cross_val_score:  0.018747919312373813\n",
      "\n",
      "\n",
      "Standard Deviation:  0.23610838555845085\n",
      "\n",
      "\n",
      "Mean Absolute Error:  4708.742212798767\n",
      "\n",
      "\n",
      "Mean Squared Error:  52914431.274260476\n",
      "\n",
      "\n",
      "Root Mean Squared Error:  7274.230631088107\n",
      "\n",
      "\n",
      "\n",
      "\n",
      "\n",
      "KNeighborsRegressor()\n",
      "\n",
      "\n",
      "r2_score:  0.6464453899287415\n",
      "\n",
      "\n",
      "cross_val_score:  0.32941339497836736\n",
      "\n",
      "\n",
      "Standard Deviation:  0.09174953227921921\n",
      "\n",
      "\n",
      "Mean Absolute Error:  5704.829760986893\n",
      "\n",
      "\n",
      "Mean Squared Error:  55739022.02606014\n",
      "\n",
      "\n",
      "Root Mean Squared Error:  7465.8570858314815\n",
      "\n",
      "\n",
      "\n",
      "\n",
      "\n",
      "AdaBoostRegressor()\n",
      "\n",
      "\n",
      "r2_score:  0.6211317430607629\n",
      "\n",
      "\n",
      "cross_val_score:  0.36783828795822354\n",
      "\n",
      "\n",
      "Standard Deviation:  0.14003993145315197\n",
      "\n",
      "\n",
      "Mean Absolute Error:  6418.956038351499\n",
      "\n",
      "\n",
      "Mean Squared Error:  59729799.91479927\n",
      "\n",
      "\n",
      "Root Mean Squared Error:  7728.505671525335\n",
      "\n",
      "\n",
      "\n",
      "\n",
      "\n",
      "GradientBoostingRegressor()\n",
      "\n",
      "\n",
      "r2_score:  0.7822006872092868\n",
      "\n",
      "\n",
      "cross_val_score:  0.5018337680601973\n",
      "\n",
      "\n",
      "Standard Deviation:  0.0837627437179355\n",
      "\n",
      "\n",
      "Mean Absolute Error:  4560.5312742291435\n",
      "\n",
      "\n",
      "Mean Squared Error:  34336762.545552835\n",
      "\n",
      "\n",
      "Root Mean Squared Error:  5859.757891376813\n",
      "\n",
      "\n",
      "\n"
     ]
    }
   ],
   "source": [
    "Model=[]\n",
    "score=[]\n",
    "cvs=[]\n",
    "sd=[]\n",
    "mae=[]\n",
    "mse=[]\n",
    "rmse=[]\n",
    "for name,model in models:\n",
    "    print('\\n')\n",
    "    Model.append(name)\n",
    "    model.fit(x_train,y_train)\n",
    "    print(model)\n",
    "    pred=model.predict(x_test)\n",
    "    print('\\n')\n",
    "    S=r2_score(y_test,pred)\n",
    "    print('r2_score: ',S)\n",
    "    score.append(S*100)\n",
    "    print('\\n')\n",
    "    sc=cross_val_score(model,x,y,cv=3,scoring='r2').mean()\n",
    "    print('cross_val_score: ',sc)\n",
    "    cvs.append(sc*100)\n",
    "    print('\\n')\n",
    "    std=cross_val_score(model,x,y,cv=3,scoring='r2').std()\n",
    "    print('Standard Deviation: ',std)\n",
    "    sd.append(std)\n",
    "    print('\\n')\n",
    "    MAE=mean_absolute_error(y_test,pred)\n",
    "    print('Mean Absolute Error: ',MAE)\n",
    "    mae.append(MAE)\n",
    "    print('\\n')\n",
    "    MSE=mean_squared_error(y_test,pred)\n",
    "    print('Mean Squared Error: ',MSE)\n",
    "    mse.append(MSE)\n",
    "    print('\\n')\n",
    "    RMSE=np.sqrt(mean_squared_error(y_test,pred))\n",
    "    print('Root Mean Squared Error: ',RMSE)\n",
    "    rmse.append(RMSE)\n",
    "    print('\\n\\n')"
   ]
  },
  {
   "cell_type": "code",
   "execution_count": 81,
   "id": "bb8a0382",
   "metadata": {},
   "outputs": [
    {
     "data": {
      "text/html": [
       "<div>\n",
       "<style scoped>\n",
       "    .dataframe tbody tr th:only-of-type {\n",
       "        vertical-align: middle;\n",
       "    }\n",
       "\n",
       "    .dataframe tbody tr th {\n",
       "        vertical-align: top;\n",
       "    }\n",
       "\n",
       "    .dataframe thead th {\n",
       "        text-align: right;\n",
       "    }\n",
       "</style>\n",
       "<table border=\"1\" class=\"dataframe\">\n",
       "  <thead>\n",
       "    <tr style=\"text-align: right;\">\n",
       "      <th></th>\n",
       "      <th>Model</th>\n",
       "      <th>r2_score</th>\n",
       "      <th>Cross_val_score</th>\n",
       "      <th>Standard_deviation</th>\n",
       "      <th>Mean_absolute_error</th>\n",
       "      <th>Mean_squared_error</th>\n",
       "      <th>Root_Mean_Squared_error</th>\n",
       "    </tr>\n",
       "  </thead>\n",
       "  <tbody>\n",
       "    <tr>\n",
       "      <th>0</th>\n",
       "      <td>Linear Regression</td>\n",
       "      <td>48.136484</td>\n",
       "      <td>39.007021</td>\n",
       "      <td>0.028018</td>\n",
       "      <td>7310.629252</td>\n",
       "      <td>8.176450e+07</td>\n",
       "      <td>9042.372584</td>\n",
       "    </tr>\n",
       "    <tr>\n",
       "      <th>1</th>\n",
       "      <td>Lasso Regression</td>\n",
       "      <td>48.135142</td>\n",
       "      <td>39.009733</td>\n",
       "      <td>0.027986</td>\n",
       "      <td>7310.755789</td>\n",
       "      <td>8.176662e+07</td>\n",
       "      <td>9042.489551</td>\n",
       "    </tr>\n",
       "    <tr>\n",
       "      <th>2</th>\n",
       "      <td>Random Forest Regression</td>\n",
       "      <td>83.272447</td>\n",
       "      <td>42.297878</td>\n",
       "      <td>0.180104</td>\n",
       "      <td>3709.432230</td>\n",
       "      <td>2.637153e+07</td>\n",
       "      <td>5135.321315</td>\n",
       "    </tr>\n",
       "    <tr>\n",
       "      <th>3</th>\n",
       "      <td>Ridge Regression</td>\n",
       "      <td>48.135636</td>\n",
       "      <td>39.008405</td>\n",
       "      <td>0.027979</td>\n",
       "      <td>7310.664412</td>\n",
       "      <td>8.176584e+07</td>\n",
       "      <td>9042.446497</td>\n",
       "    </tr>\n",
       "    <tr>\n",
       "      <th>4</th>\n",
       "      <td>Support Vector Regressor</td>\n",
       "      <td>0.768583</td>\n",
       "      <td>-0.938503</td>\n",
       "      <td>0.020366</td>\n",
       "      <td>10228.788518</td>\n",
       "      <td>1.564415e+08</td>\n",
       "      <td>12507.658552</td>\n",
       "    </tr>\n",
       "    <tr>\n",
       "      <th>5</th>\n",
       "      <td>Decision Tree Regressor</td>\n",
       "      <td>66.436187</td>\n",
       "      <td>1.874792</td>\n",
       "      <td>0.236108</td>\n",
       "      <td>4708.742213</td>\n",
       "      <td>5.291443e+07</td>\n",
       "      <td>7274.230631</td>\n",
       "    </tr>\n",
       "    <tr>\n",
       "      <th>6</th>\n",
       "      <td>KNeighbors Regressor</td>\n",
       "      <td>64.644539</td>\n",
       "      <td>32.941339</td>\n",
       "      <td>0.091750</td>\n",
       "      <td>5704.829761</td>\n",
       "      <td>5.573902e+07</td>\n",
       "      <td>7465.857086</td>\n",
       "    </tr>\n",
       "    <tr>\n",
       "      <th>7</th>\n",
       "      <td>AdaBoost Regressor</td>\n",
       "      <td>62.113174</td>\n",
       "      <td>36.783829</td>\n",
       "      <td>0.140040</td>\n",
       "      <td>6418.956038</td>\n",
       "      <td>5.972980e+07</td>\n",
       "      <td>7728.505672</td>\n",
       "    </tr>\n",
       "    <tr>\n",
       "      <th>8</th>\n",
       "      <td>GradientBoostingRegressor</td>\n",
       "      <td>78.220069</td>\n",
       "      <td>50.183377</td>\n",
       "      <td>0.083763</td>\n",
       "      <td>4560.531274</td>\n",
       "      <td>3.433676e+07</td>\n",
       "      <td>5859.757891</td>\n",
       "    </tr>\n",
       "  </tbody>\n",
       "</table>\n",
       "</div>"
      ],
      "text/plain": [
       "                       Model   r2_score  Cross_val_score  Standard_deviation  \\\n",
       "0          Linear Regression  48.136484        39.007021            0.028018   \n",
       "1           Lasso Regression  48.135142        39.009733            0.027986   \n",
       "2   Random Forest Regression  83.272447        42.297878            0.180104   \n",
       "3           Ridge Regression  48.135636        39.008405            0.027979   \n",
       "4   Support Vector Regressor   0.768583        -0.938503            0.020366   \n",
       "5    Decision Tree Regressor  66.436187         1.874792            0.236108   \n",
       "6       KNeighbors Regressor  64.644539        32.941339            0.091750   \n",
       "7         AdaBoost Regressor  62.113174        36.783829            0.140040   \n",
       "8  GradientBoostingRegressor  78.220069        50.183377            0.083763   \n",
       "\n",
       "   Mean_absolute_error  Mean_squared_error  Root_Mean_Squared_error  \n",
       "0          7310.629252        8.176450e+07              9042.372584  \n",
       "1          7310.755789        8.176662e+07              9042.489551  \n",
       "2          3709.432230        2.637153e+07              5135.321315  \n",
       "3          7310.664412        8.176584e+07              9042.446497  \n",
       "4         10228.788518        1.564415e+08             12507.658552  \n",
       "5          4708.742213        5.291443e+07              7274.230631  \n",
       "6          5704.829761        5.573902e+07              7465.857086  \n",
       "7          6418.956038        5.972980e+07              7728.505672  \n",
       "8          4560.531274        3.433676e+07              5859.757891  "
      ]
     },
     "execution_count": 81,
     "metadata": {},
     "output_type": "execute_result"
    }
   ],
   "source": [
    "#making dataframe for results got from model:\n",
    "result_df=pd.DataFrame({'Model':Model, 'r2_score': score, 'Cross_val_score':cvs, 'Standard_deviation':sd,\n",
    "                    'Mean_absolute_error':mae, 'Mean_squared_error':mse, 'Root_Mean_Squared_error':rmse})\n",
    "result_df"
   ]
  },
  {
   "cell_type": "markdown",
   "id": "d91ad84a",
   "metadata": {},
   "source": [
    "# Highest R2 score is given by RandomForest Model. So I'll do Hyperparameter tuning for Random Forest.\n",
    "\n"
   ]
  },
  {
   "cell_type": "markdown",
   "id": "6a82e5ba",
   "metadata": {},
   "source": [
    "# Hyperparameter Tuning\n"
   ]
  },
  {
   "cell_type": "code",
   "execution_count": 82,
   "id": "7b00f821",
   "metadata": {},
   "outputs": [
    {
     "name": "stdout",
     "output_type": "stream",
     "text": [
      "{'criterion': 'mse', 'max_depth': 5, 'min_samples_leaf': 3, 'min_samples_split': 2, 'n_estimators': 100}\n",
      "0.6406801715974881\n"
     ]
    }
   ],
   "source": [
    "from sklearn.model_selection import GridSearchCV\n",
    "\n",
    "params = {'n_estimators': [100,200],\n",
    "          'criterion' : [\"mse\",\"mae\"],\n",
    "          'max_depth' : range(2,6),\n",
    "          'min_samples_split' : range(2,4),\n",
    "          'min_samples_leaf':range(2,7)\n",
    "\n",
    "          \n",
    "         }\n",
    "rfr = RandomForestRegressor()\n",
    "clf  = GridSearchCV(rfr,params,cv=5,scoring ='r2')\n",
    "clf.fit(x_train,y_train)\n",
    "print(clf.best_params_)  #Printing the best parameters obtained\n",
    "print(clf.best_score_) #Mean cross-validated score of best_estimator"
   ]
  },
  {
   "cell_type": "code",
   "execution_count": 84,
   "id": "ef94d837",
   "metadata": {},
   "outputs": [
    {
     "name": "stdout",
     "output_type": "stream",
     "text": [
      " r2_score after tuning is:  66.24201292462574\n",
      "Cross validation score:  29.562623874572168\n",
      "Standard deviation:  0.30158492060793207\n",
      "\n",
      "\n",
      "Mean absolute error:  5653.461335881796\n",
      "Mean squared error:  53220552.96550928\n",
      "Root Mean squared error:  7295.241803087083\n"
     ]
    }
   ],
   "source": [
    "## Providing best parameters to the model\n",
    "rfr=RandomForestRegressor(criterion='mse', max_depth = 5,min_samples_leaf=3, n_estimators=100)\n",
    "rfr.fit(x_train,y_train)\n",
    "pred=rfr.predict(x_test)\n",
    "print(' r2_score after tuning is: ',r2_score(y_test,pred)*100)\n",
    "print('Cross validation score: ',cross_val_score(rfr,x,y,cv=5,scoring='r2').mean()*100)\n",
    "print('Standard deviation: ',cross_val_score(rfr,x,y,cv=5,scoring='r2').std())\n",
    "print('\\n')\n",
    "print('Mean absolute error: ',mean_absolute_error(y_test,pred))\n",
    "print('Mean squared error: ',mean_squared_error(y_test,pred))\n",
    "print('Root Mean squared error: ',np.sqrt(mean_squared_error(y_test,pred)))    "
   ]
  },
  {
   "cell_type": "markdown",
   "id": "a68bd4eb",
   "metadata": {},
   "source": [
    "# Saving the model\n"
   ]
  },
  {
   "cell_type": "code",
   "execution_count": 85,
   "id": "5b3e6c7e",
   "metadata": {},
   "outputs": [],
   "source": [
    "import pickle\n",
    "filename = 'flight_price_prediction.pickle'\n",
    "pickle.dump(rf,open(filename,'wb'))"
   ]
  },
  {
   "cell_type": "code",
   "execution_count": null,
   "id": "ae50cd83",
   "metadata": {},
   "outputs": [],
   "source": []
  }
 ],
 "metadata": {
  "kernelspec": {
   "display_name": "Python 3 (ipykernel)",
   "language": "python",
   "name": "python3"
  },
  "language_info": {
   "codemirror_mode": {
    "name": "ipython",
    "version": 3
   },
   "file_extension": ".py",
   "mimetype": "text/x-python",
   "name": "python",
   "nbconvert_exporter": "python",
   "pygments_lexer": "ipython3",
   "version": "3.9.7"
  }
 },
 "nbformat": 4,
 "nbformat_minor": 5
}
